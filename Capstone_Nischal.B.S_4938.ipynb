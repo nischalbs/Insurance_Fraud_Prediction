{
 "cells": [
  {
   "cell_type": "code",
   "execution_count": 144,
   "id": "9aae7904",
   "metadata": {},
   "outputs": [],
   "source": [
    "import datetime\n",
    "import numpy as np\n",
    "import pandas as pd\n",
    "import seaborn as sns\n",
    "import category_encoders as ce \n",
    "from scipy.stats import randint\n",
    "import matplotlib.pyplot as plot\n",
    "from sklearn.ensemble import RandomForestClassifier\n",
    "from sklearn.model_selection import RandomizedSearchCV, train_test_split"
   ]
  },
  {
   "cell_type": "markdown",
   "id": "d556216b",
   "metadata": {},
   "source": [
    "# Reading the train and test files"
   ]
  },
  {
   "cell_type": "code",
   "execution_count": 145,
   "id": "0fd02bd5",
   "metadata": {},
   "outputs": [],
   "source": [
    "Train_Claim=pd.read_csv(r\"C:\\Users\\91831\\Desktop\\CapStone_NISCHAL.B.S_4938_Solution\\CapStone Train\\Train_Claim.csv\") \n",
    "Train_Demographics=pd.read_csv(r\"C:\\Users\\91831\\Desktop\\CapStone_NISCHAL.B.S_4938_Solution\\CapStone Train\\Train_Demographics.csv\")\n",
    "Train_Policy=pd.read_csv(r\"C:\\Users\\91831\\Desktop\\CapStone_NISCHAL.B.S_4938_Solution\\CapStone Train\\Train_Policy.csv\")\n",
    "Train_Vehicle=pd.read_csv(r\"C:\\Users\\91831\\Desktop\\CapStone_NISCHAL.B.S_4938_Solution\\CapStone Train\\Train_Vehicle.csv\")\n",
    "Target=pd.read_csv(r\"C:\\Users\\91831\\Desktop\\CapStone_NISCHAL.B.S_4938_Solution\\CapStone Train\\Traindata_with_Target.csv\")"
   ]
  },
  {
   "cell_type": "code",
   "execution_count": 146,
   "id": "098e0f67",
   "metadata": {},
   "outputs": [],
   "source": [
    "Test_Claim=pd.read_csv(r\"C:\\Users\\91831\\Desktop\\CapStone_NISCHAL.B.S_4938_Solution\\CapStone Test\\Test_Claim.csv\") \n",
    "Test_Demographics=pd.read_csv(r\"C:\\Users\\91831\\Desktop\\CapStone_NISCHAL.B.S_4938_Solution\\CapStone Test\\Test_Demographics.csv\")\n",
    "Test_Policy=pd.read_csv(r\"C:\\Users\\91831\\Desktop\\CapStone_NISCHAL.B.S_4938_Solution\\CapStone Test\\Test_Policy.csv\")\n",
    "Test_Vehicle=pd.read_csv(r\"C:\\Users\\91831\\Desktop\\CapStone_NISCHAL.B.S_4938_Solution\\CapStone Test\\Test_Vehicle.csv\")"
   ]
  },
  {
   "cell_type": "markdown",
   "id": "98b49281",
   "metadata": {},
   "source": [
    "# Merging the datasets using the customer ID as the criteria to match the suffled rows"
   ]
  },
  {
   "cell_type": "code",
   "execution_count": 147,
   "id": "d851bca4",
   "metadata": {},
   "outputs": [],
   "source": [
    "result = pd.merge(Train_Claim, Train_Demographics, on=\"CustomerID\")\n",
    "result_ = pd.merge(Test_Claim,Test_Demographics , on=\"CustomerID\")"
   ]
  },
  {
   "cell_type": "code",
   "execution_count": 148,
   "id": "46db6074",
   "metadata": {},
   "outputs": [],
   "source": [
    "Train_data = pd.merge(result,Train_Policy, on=\"CustomerID\")\n",
    "Test_data = pd.merge(result_,Test_Policy, on=\"CustomerID\")"
   ]
  },
  {
   "cell_type": "code",
   "execution_count": 149,
   "id": "56c9d7c6",
   "metadata": {},
   "outputs": [],
   "source": [
    "Train_data = pd.merge(Train_data,Target, on=\"CustomerID\")"
   ]
  },
  {
   "cell_type": "code",
   "execution_count": 150,
   "id": "399848d0",
   "metadata": {},
   "outputs": [
    {
     "data": {
      "text/plain": [
       "(28836, 38)"
      ]
     },
     "execution_count": 150,
     "metadata": {},
     "output_type": "execute_result"
    }
   ],
   "source": [
    "Train_data.shape"
   ]
  },
  {
   "cell_type": "code",
   "execution_count": 151,
   "id": "4d0a994d",
   "metadata": {},
   "outputs": [
    {
     "data": {
      "text/plain": [
       "(8912, 37)"
      ]
     },
     "execution_count": 151,
     "metadata": {},
     "output_type": "execute_result"
    }
   ],
   "source": [
    "Test_data.shape"
   ]
  },
  {
   "cell_type": "markdown",
   "id": "6485139c",
   "metadata": {},
   "source": [
    "# Feature Engineering Making New column \"Vehicale Model\""
   ]
  },
  {
   "cell_type": "code",
   "execution_count": 152,
   "id": "c58aa9c3",
   "metadata": {},
   "outputs": [],
   "source": [
    "VehicleModel=Train_Vehicle.query(\"VehicleAttribute == 'VehicleModel'\")\n",
    "VehicleModel = VehicleModel.rename(columns = {'VehicleAttributeDetails':'VehicleModel'})\n",
    "VehicleModel.drop(['VehicleAttribute'], axis=1 ,inplace=True)"
   ]
  },
  {
   "cell_type": "code",
   "execution_count": 153,
   "id": "ba02296c",
   "metadata": {},
   "outputs": [],
   "source": [
    "Train_data = pd.merge(Train_data,VehicleModel, on=\"CustomerID\")"
   ]
  },
  {
   "cell_type": "code",
   "execution_count": 154,
   "id": "216ac534",
   "metadata": {},
   "outputs": [],
   "source": [
    "VehicleModel_=Test_Vehicle.query(\"VehicleAttribute == 'VehicleModel'\")\n",
    "VehicleModel_= VehicleModel_.rename(columns = {'VehicleAttributeDetails':'VehicleModel'})\n",
    "VehicleModel_.drop(['VehicleAttribute'], axis=1 ,inplace=True)"
   ]
  },
  {
   "cell_type": "code",
   "execution_count": 155,
   "id": "239284c8",
   "metadata": {},
   "outputs": [],
   "source": [
    "Test_data = pd.merge(Test_data,VehicleModel_, on=\"CustomerID\")"
   ]
  },
  {
   "cell_type": "code",
   "execution_count": 156,
   "id": "69a0a61d",
   "metadata": {},
   "outputs": [],
   "source": [
    "VehicleYOM=Train_Vehicle.query(\"VehicleAttribute == 'VehicleYOM'\")\n",
    "VehicleYOM = VehicleYOM.rename(columns = {'VehicleAttributeDetails':'VehicleYOM'})\n",
    "VehicleYOM.drop(['VehicleAttribute'], axis=1 ,inplace=True)"
   ]
  },
  {
   "cell_type": "code",
   "execution_count": 157,
   "id": "23fb37d5",
   "metadata": {},
   "outputs": [],
   "source": [
    "Train_data = pd.merge(Train_data,VehicleYOM, on=\"CustomerID\")"
   ]
  },
  {
   "cell_type": "code",
   "execution_count": 158,
   "id": "8e8e691e",
   "metadata": {},
   "outputs": [],
   "source": [
    "VehicleYOM_=Test_Vehicle.query(\"VehicleAttribute == 'VehicleYOM'\")\n",
    "VehicleYOM_ = VehicleYOM_.rename(columns = {'VehicleAttributeDetails':'VehicleYOM'})\n",
    "VehicleYOM_.drop(['VehicleAttribute'], axis=1 ,inplace=True)"
   ]
  },
  {
   "cell_type": "code",
   "execution_count": 159,
   "id": "2e606a1b",
   "metadata": {},
   "outputs": [],
   "source": [
    "Test_data = pd.merge(Test_data,VehicleYOM_, on=\"CustomerID\")"
   ]
  },
  {
   "cell_type": "code",
   "execution_count": 160,
   "id": "bd60c5e1",
   "metadata": {},
   "outputs": [],
   "source": [
    "VehicleID=Train_Vehicle.query(\"VehicleAttribute == 'VehicleID'\")\n",
    "VehicleID = VehicleID.rename(columns = {'VehicleAttributeDetails':'VehicleID'})\n",
    "VehicleID.drop(['VehicleAttribute'], axis=1 ,inplace=True)\n",
    "Train_data = pd.merge(Train_data,VehicleID, on=\"CustomerID\")"
   ]
  },
  {
   "cell_type": "code",
   "execution_count": 161,
   "id": "3785e19f",
   "metadata": {},
   "outputs": [],
   "source": [
    "VehicleID_=Test_Vehicle.query(\"VehicleAttribute == 'VehicleID'\")\n",
    "VehicleID_ = VehicleID_.rename(columns = {'VehicleAttributeDetails':'VehicleID'})\n",
    "VehicleID_.drop(['VehicleAttribute'], axis=1 ,inplace=True)\n",
    "Test_data = pd.merge(Test_data,VehicleID_, on=\"CustomerID\")"
   ]
  },
  {
   "cell_type": "code",
   "execution_count": 162,
   "id": "0fc27c77",
   "metadata": {},
   "outputs": [],
   "source": [
    "cust=Train_data['CustomerID']\n",
    "cust_=Test_data['CustomerID']"
   ]
  },
  {
   "cell_type": "code",
   "execution_count": 163,
   "id": "b4e5e9c7",
   "metadata": {},
   "outputs": [
    {
     "data": {
      "text/plain": [
       "(8912, 40)"
      ]
     },
     "execution_count": 163,
     "metadata": {},
     "output_type": "execute_result"
    }
   ],
   "source": [
    "Test_data.shape"
   ]
  },
  {
   "cell_type": "markdown",
   "id": "ab14c7cc",
   "metadata": {},
   "source": [
    "# The below columns will make the model bias"
   ]
  },
  {
   "cell_type": "code",
   "execution_count": 164,
   "id": "de95f4e8",
   "metadata": {},
   "outputs": [],
   "source": [
    "Train_data.drop(['CustomerID','IncidentAddress', 'DateOfIncident' ,'InsuredZipCode' ,  'Country', 'InsurancePolicyNumber', 'InsuredEducationLevel', 'InsuredRelationship','VehicleID'],axis=1,inplace=True)\n",
    "Test_data.drop(['CustomerID','IncidentAddress', 'DateOfIncident' ,'InsuredZipCode' ,  'Country', 'InsurancePolicyNumber', 'InsuredEducationLevel', 'InsuredRelationship','VehicleID'],axis=1,inplace=True) "
   ]
  },
  {
   "cell_type": "code",
   "execution_count": 165,
   "id": "38cf869d",
   "metadata": {},
   "outputs": [
    {
     "data": {
      "text/plain": [
       "(28836, 32)"
      ]
     },
     "execution_count": 165,
     "metadata": {},
     "output_type": "execute_result"
    }
   ],
   "source": [
    "Train_data.shape"
   ]
  },
  {
   "cell_type": "markdown",
   "id": "53760881",
   "metadata": {},
   "source": [
    "# -----------------------------------------------------------------------------------------------------------"
   ]
  },
  {
   "cell_type": "markdown",
   "id": "715fd07d",
   "metadata": {},
   "source": [
    "# Categorical columns"
   ]
  },
  {
   "cell_type": "code",
   "execution_count": 166,
   "id": "9cbe8e7f",
   "metadata": {},
   "outputs": [],
   "source": [
    "Cat=Train_data.select_dtypes(exclude=['int64'])\n",
    "Cat_=Test_data.select_dtypes(exclude=['int64'])"
   ]
  },
  {
   "cell_type": "code",
   "execution_count": 167,
   "id": "4de1340d",
   "metadata": {},
   "outputs": [
    {
     "data": {
      "text/plain": [
       "Index(['TypeOfIncident', 'TypeOfCollission', 'SeverityOfIncident',\n",
       "       'AuthoritiesContacted', 'IncidentState', 'IncidentCity',\n",
       "       'PropertyDamage', 'Witnesses', 'PoliceReport', 'AmountOfTotalClaim',\n",
       "       'InsuredGender', 'InsuredOccupation', 'InsuredHobbies',\n",
       "       'DateOfPolicyCoverage', 'InsurancePolicyState',\n",
       "       'Policy_CombinedSingleLimit', 'PolicyAnnualPremium', 'VehicleModel',\n",
       "       'VehicleYOM'],\n",
       "      dtype='object')"
      ]
     },
     "execution_count": 167,
     "metadata": {},
     "output_type": "execute_result"
    }
   ],
   "source": [
    "Cat_.columns"
   ]
  },
  {
   "cell_type": "markdown",
   "id": "ef9cf1db",
   "metadata": {},
   "source": [
    "# TypeOfIncident"
   ]
  },
  {
   "cell_type": "code",
   "execution_count": 168,
   "id": "de25c969",
   "metadata": {},
   "outputs": [
    {
     "data": {
      "text/plain": [
       "array(['Multi-vehicle Collision', 'Single Vehicle Collision',\n",
       "       'Parked Car', 'Vehicle Theft'], dtype=object)"
      ]
     },
     "execution_count": 168,
     "metadata": {},
     "output_type": "execute_result"
    }
   ],
   "source": [
    "TypeOfIncident=Cat['TypeOfIncident']\n",
    "TypeOfIncident.unique()"
   ]
  },
  {
   "cell_type": "code",
   "execution_count": 169,
   "id": "a93a28aa",
   "metadata": {},
   "outputs": [],
   "source": [
    "TypeOfIncident=pd.get_dummies(TypeOfIncident)"
   ]
  },
  {
   "cell_type": "code",
   "execution_count": 170,
   "id": "3fcbec6b",
   "metadata": {},
   "outputs": [],
   "source": [
    "Cat=pd.concat([Cat,TypeOfIncident], axis=\"columns\",join=\"inner\")\n",
    "Cat.drop(['TypeOfIncident'],axis=1,inplace=True) "
   ]
  },
  {
   "cell_type": "code",
   "execution_count": 171,
   "id": "3e1a3aea",
   "metadata": {},
   "outputs": [
    {
     "data": {
      "text/plain": [
       "array(['Multi-vehicle Collision', 'Single Vehicle Collision',\n",
       "       'Vehicle Theft', 'Parked Car'], dtype=object)"
      ]
     },
     "execution_count": 171,
     "metadata": {},
     "output_type": "execute_result"
    }
   ],
   "source": [
    "TypeOfIncident_=Cat_['TypeOfIncident']\n",
    "TypeOfIncident_.unique()"
   ]
  },
  {
   "cell_type": "code",
   "execution_count": 172,
   "id": "bac505ff",
   "metadata": {},
   "outputs": [],
   "source": [
    "TypeOfIncident_=pd.get_dummies(TypeOfIncident_)"
   ]
  },
  {
   "cell_type": "code",
   "execution_count": 173,
   "id": "f5022fea",
   "metadata": {},
   "outputs": [],
   "source": [
    "Cat_=pd.concat([Cat_,TypeOfIncident_], axis=\"columns\",join=\"inner\")\n",
    "Cat_.drop(['TypeOfIncident'],axis=1,inplace=True)"
   ]
  },
  {
   "cell_type": "markdown",
   "id": "7d459296",
   "metadata": {},
   "source": [
    "# SeverityOfIncident"
   ]
  },
  {
   "cell_type": "code",
   "execution_count": 174,
   "id": "6c2bb67b",
   "metadata": {},
   "outputs": [
    {
     "data": {
      "text/plain": [
       "array(['Total Loss', 'Minor Damage', 'Major Damage', 'Trivial Damage'],\n",
       "      dtype=object)"
      ]
     },
     "execution_count": 174,
     "metadata": {},
     "output_type": "execute_result"
    }
   ],
   "source": [
    "SeverityOfIncident=Cat['SeverityOfIncident']\n",
    "SeverityOfIncident.unique()"
   ]
  },
  {
   "cell_type": "code",
   "execution_count": 175,
   "id": "3ae33665",
   "metadata": {},
   "outputs": [],
   "source": [
    "SeverityOfIncident=pd.get_dummies(SeverityOfIncident)"
   ]
  },
  {
   "cell_type": "code",
   "execution_count": 176,
   "id": "30b6fd80",
   "metadata": {},
   "outputs": [],
   "source": [
    "Cat.drop(['SeverityOfIncident'],axis=1,inplace=True)"
   ]
  },
  {
   "cell_type": "code",
   "execution_count": 177,
   "id": "89a60df4",
   "metadata": {},
   "outputs": [],
   "source": [
    "Cat=pd.concat([Cat,TypeOfIncident], axis=\"columns\",join=\"inner\")"
   ]
  },
  {
   "cell_type": "code",
   "execution_count": 178,
   "id": "048d453f",
   "metadata": {},
   "outputs": [
    {
     "data": {
      "text/plain": [
       "array(['Minor Damage', 'Trivial Damage', 'Major Damage', 'Total Loss'],\n",
       "      dtype=object)"
      ]
     },
     "execution_count": 178,
     "metadata": {},
     "output_type": "execute_result"
    }
   ],
   "source": [
    "SeverityOfIncident_=Cat_['SeverityOfIncident']\n",
    "SeverityOfIncident_.unique()"
   ]
  },
  {
   "cell_type": "code",
   "execution_count": 179,
   "id": "4e9492e4",
   "metadata": {},
   "outputs": [],
   "source": [
    "SeverityOfIncident_=pd.get_dummies(SeverityOfIncident_)"
   ]
  },
  {
   "cell_type": "code",
   "execution_count": 180,
   "id": "91343d79",
   "metadata": {},
   "outputs": [],
   "source": [
    "Cat_.drop(['SeverityOfIncident'],axis=1,inplace=True)"
   ]
  },
  {
   "cell_type": "code",
   "execution_count": 181,
   "id": "4c0e2325",
   "metadata": {},
   "outputs": [],
   "source": [
    "Cat_=pd.concat([Cat_,TypeOfIncident_], axis=\"columns\",join=\"inner\")"
   ]
  },
  {
   "cell_type": "markdown",
   "id": "bea3c93c",
   "metadata": {},
   "source": [
    "# AuthoritiesContacted"
   ]
  },
  {
   "cell_type": "code",
   "execution_count": 182,
   "id": "b997dbd0",
   "metadata": {},
   "outputs": [],
   "source": [
    "AuthoritiesContacted=Cat['AuthoritiesContacted']"
   ]
  },
  {
   "cell_type": "code",
   "execution_count": 183,
   "id": "30ac4e72",
   "metadata": {},
   "outputs": [],
   "source": [
    "AuthoritiesContacted=pd.DataFrame(AuthoritiesContacted)"
   ]
  },
  {
   "cell_type": "code",
   "execution_count": 184,
   "id": "f5faccd7",
   "metadata": {},
   "outputs": [
    {
     "data": {
      "text/plain": [
       "AuthoritiesContacted    2692\n",
       "dtype: int64"
      ]
     },
     "execution_count": 184,
     "metadata": {},
     "output_type": "execute_result"
    }
   ],
   "source": [
    "(AuthoritiesContacted=='None').sum()"
   ]
  },
  {
   "cell_type": "code",
   "execution_count": 185,
   "id": "4febf2b5",
   "metadata": {},
   "outputs": [],
   "source": [
    "AuthoritiesContacted['AuthoritiesContacted'] = AuthoritiesContacted['AuthoritiesContacted'].replace(to_replace='None', value='Police')"
   ]
  },
  {
   "cell_type": "code",
   "execution_count": 186,
   "id": "4e5f5f1b",
   "metadata": {},
   "outputs": [
    {
     "data": {
      "text/plain": [
       "array(['Police', 'Other', 'Fire', 'Ambulance'], dtype=object)"
      ]
     },
     "execution_count": 186,
     "metadata": {},
     "output_type": "execute_result"
    }
   ],
   "source": [
    "AuthoritiesContacted.AuthoritiesContacted.unique()"
   ]
  },
  {
   "cell_type": "code",
   "execution_count": 187,
   "id": "824af6f7",
   "metadata": {},
   "outputs": [],
   "source": [
    "AuthoritiesContacted=pd.get_dummies(AuthoritiesContacted)\n",
    "Cat.drop(['AuthoritiesContacted'],axis=1,inplace=True)\n",
    "Cat=pd.concat([Cat,AuthoritiesContacted], axis=\"columns\",join=\"inner\")"
   ]
  },
  {
   "cell_type": "code",
   "execution_count": 188,
   "id": "568a73ad",
   "metadata": {},
   "outputs": [],
   "source": [
    "AuthoritiesContacted_=Cat_['AuthoritiesContacted']\n",
    "AuthoritiesContacted_=pd.DataFrame(AuthoritiesContacted_)"
   ]
  },
  {
   "cell_type": "code",
   "execution_count": 189,
   "id": "d441e790",
   "metadata": {},
   "outputs": [
    {
     "data": {
      "text/plain": [
       "AuthoritiesContacted    947\n",
       "dtype: int64"
      ]
     },
     "execution_count": 189,
     "metadata": {},
     "output_type": "execute_result"
    }
   ],
   "source": [
    "(AuthoritiesContacted_=='None').sum()"
   ]
  },
  {
   "cell_type": "code",
   "execution_count": 190,
   "id": "d1b00186",
   "metadata": {},
   "outputs": [],
   "source": [
    "AuthoritiesContacted_['AuthoritiesContacted'] = AuthoritiesContacted_['AuthoritiesContacted'].replace(to_replace='None', value='Police')"
   ]
  },
  {
   "cell_type": "code",
   "execution_count": 191,
   "id": "44198d75",
   "metadata": {},
   "outputs": [
    {
     "data": {
      "text/plain": [
       "array(['Ambulance', 'Fire', 'Police', 'Other'], dtype=object)"
      ]
     },
     "execution_count": 191,
     "metadata": {},
     "output_type": "execute_result"
    }
   ],
   "source": [
    "AuthoritiesContacted_.AuthoritiesContacted.unique()"
   ]
  },
  {
   "cell_type": "code",
   "execution_count": 192,
   "id": "1b2e9b9b",
   "metadata": {},
   "outputs": [],
   "source": [
    "AuthoritiesContacted_=pd.get_dummies(AuthoritiesContacted_)\n",
    "Cat_.drop(['AuthoritiesContacted'],axis=1,inplace=True)\n",
    "Cat_=pd.concat([Cat_,AuthoritiesContacted_], axis=\"columns\",join=\"inner\")"
   ]
  },
  {
   "cell_type": "markdown",
   "id": "e533b848",
   "metadata": {},
   "source": [
    "# TypeOfCollission"
   ]
  },
  {
   "cell_type": "code",
   "execution_count": 193,
   "id": "8f93a906",
   "metadata": {},
   "outputs": [],
   "source": [
    "TypeOfCollission=Cat['TypeOfCollission']"
   ]
  },
  {
   "cell_type": "code",
   "execution_count": 194,
   "id": "e61179cf",
   "metadata": {},
   "outputs": [],
   "source": [
    "TypeOfCollission=pd.DataFrame(TypeOfCollission)"
   ]
  },
  {
   "cell_type": "code",
   "execution_count": 195,
   "id": "ba5fce18",
   "metadata": {},
   "outputs": [
    {
     "data": {
      "text/plain": [
       "TypeOfCollission    5162\n",
       "dtype: int64"
      ]
     },
     "execution_count": 195,
     "metadata": {},
     "output_type": "execute_result"
    }
   ],
   "source": [
    "(TypeOfCollission=='?').sum()"
   ]
  },
  {
   "cell_type": "code",
   "execution_count": 196,
   "id": "5d799356",
   "metadata": {},
   "outputs": [
    {
     "data": {
      "text/plain": [
       "TypeOfCollission\n",
       "Rear Collision      8561\n",
       "Side Collision      7867\n",
       "Front Collision     7246\n",
       "?                   5162\n",
       "dtype: int64"
      ]
     },
     "execution_count": 196,
     "metadata": {},
     "output_type": "execute_result"
    }
   ],
   "source": [
    "TypeOfCollission.value_counts()"
   ]
  },
  {
   "cell_type": "code",
   "execution_count": 197,
   "id": "82db3f5c",
   "metadata": {},
   "outputs": [],
   "source": [
    "TypeOfCollission['TypeOfCollission'] = TypeOfCollission['TypeOfCollission'].replace(to_replace='?', value='Rear Collision')"
   ]
  },
  {
   "cell_type": "code",
   "execution_count": 198,
   "id": "0824f709",
   "metadata": {},
   "outputs": [
    {
     "data": {
      "text/plain": [
       "array(['Side Collision', 'Rear Collision', 'Front Collision'],\n",
       "      dtype=object)"
      ]
     },
     "execution_count": 198,
     "metadata": {},
     "output_type": "execute_result"
    }
   ],
   "source": [
    "TypeOfCollission.TypeOfCollission.unique()"
   ]
  },
  {
   "cell_type": "code",
   "execution_count": 199,
   "id": "2cbf1d42",
   "metadata": {},
   "outputs": [],
   "source": [
    "TypeOfCollission=pd.get_dummies(TypeOfCollission)\n",
    "Cat.drop(['TypeOfCollission'],axis=1,inplace=True)\n",
    "Cat=pd.concat([Cat,TypeOfCollission], axis=\"columns\",join=\"inner\")"
   ]
  },
  {
   "cell_type": "code",
   "execution_count": 200,
   "id": "621ffb57",
   "metadata": {},
   "outputs": [],
   "source": [
    "TypeOfCollission_=Cat_['TypeOfCollission']\n",
    "TypeOfCollission_=pd.DataFrame(TypeOfCollission_)\n",
    "TypeOfCollission_['TypeOfCollission'] = TypeOfCollission_['TypeOfCollission'].replace(to_replace='?', value='Rear Collision')"
   ]
  },
  {
   "cell_type": "code",
   "execution_count": 201,
   "id": "31eaef1d",
   "metadata": {},
   "outputs": [
    {
     "data": {
      "text/plain": [
       "array(['Front Collision', 'Rear Collision', 'Side Collision'],\n",
       "      dtype=object)"
      ]
     },
     "execution_count": 201,
     "metadata": {},
     "output_type": "execute_result"
    }
   ],
   "source": [
    "TypeOfCollission_.TypeOfCollission.unique()"
   ]
  },
  {
   "cell_type": "code",
   "execution_count": 202,
   "id": "3df9aa59",
   "metadata": {},
   "outputs": [],
   "source": [
    "TypeOfCollission_=pd.get_dummies(TypeOfCollission_)\n",
    "Cat_.drop(['TypeOfCollission'],axis=1,inplace=True)\n",
    "Cat_=pd.concat([Cat_,TypeOfCollission_], axis=\"columns\",join=\"inner\")"
   ]
  },
  {
   "cell_type": "markdown",
   "id": "3d2bca0d",
   "metadata": {},
   "source": [
    "# IncidentState"
   ]
  },
  {
   "cell_type": "code",
   "execution_count": 203,
   "id": "c1e117c9",
   "metadata": {},
   "outputs": [
    {
     "data": {
      "text/plain": [
       "array(['State7', 'State8', 'State9', 'State5', 'State6', 'State4',\n",
       "       'State3'], dtype=object)"
      ]
     },
     "execution_count": 203,
     "metadata": {},
     "output_type": "execute_result"
    }
   ],
   "source": [
    "IncidentState=Cat['IncidentState']\n",
    "IncidentState=pd.DataFrame(IncidentState)\n",
    "IncidentState.IncidentState.unique()"
   ]
  },
  {
   "cell_type": "code",
   "execution_count": 204,
   "id": "b7aa4bc9",
   "metadata": {},
   "outputs": [],
   "source": [
    "IncidentState=pd.get_dummies(IncidentState)\n",
    "Cat.drop(['IncidentState'],axis=1,inplace=True)\n",
    "Cat=pd.concat([Cat,IncidentState], axis=\"columns\",join=\"inner\")"
   ]
  },
  {
   "cell_type": "code",
   "execution_count": 205,
   "id": "711ab2c8",
   "metadata": {},
   "outputs": [
    {
     "data": {
      "text/plain": [
       "array(['State5', 'State9', 'State7', 'State8', 'State3', 'State4',\n",
       "       'State6'], dtype=object)"
      ]
     },
     "execution_count": 205,
     "metadata": {},
     "output_type": "execute_result"
    }
   ],
   "source": [
    "IncidentState_=Cat_['IncidentState']\n",
    "IncidentState_=pd.DataFrame(IncidentState_)\n",
    "IncidentState_.IncidentState.unique()"
   ]
  },
  {
   "cell_type": "code",
   "execution_count": 206,
   "id": "7913c01e",
   "metadata": {},
   "outputs": [],
   "source": [
    "IncidentState_=pd.get_dummies(IncidentState_)\n",
    "Cat_.drop(['IncidentState'],axis=1,inplace=True)\n",
    "Cat_=pd.concat([Cat_,IncidentState_], axis=\"columns\",join=\"inner\")"
   ]
  },
  {
   "cell_type": "markdown",
   "id": "ac1d38b7",
   "metadata": {},
   "source": [
    "# IncidentCity"
   ]
  },
  {
   "cell_type": "code",
   "execution_count": 207,
   "id": "1ad33cbf",
   "metadata": {},
   "outputs": [
    {
     "data": {
      "text/plain": [
       "array(['City1', 'City5', 'City6', 'City4', 'City3', 'City2', 'City7'],\n",
       "      dtype=object)"
      ]
     },
     "execution_count": 207,
     "metadata": {},
     "output_type": "execute_result"
    }
   ],
   "source": [
    "IncidentCity=Cat['IncidentCity']\n",
    "IncidentCity=pd.DataFrame(IncidentCity)\n",
    "IncidentCity.IncidentCity.unique()"
   ]
  },
  {
   "cell_type": "code",
   "execution_count": 208,
   "id": "d5b90f6d",
   "metadata": {},
   "outputs": [],
   "source": [
    "IncidentCity=pd.get_dummies(IncidentCity)\n",
    "Cat.drop(['IncidentCity'],axis=1,inplace=True)\n",
    "Cat=pd.concat([Cat,IncidentCity], axis=\"columns\",join=\"inner\")"
   ]
  },
  {
   "cell_type": "code",
   "execution_count": 209,
   "id": "d4546547",
   "metadata": {},
   "outputs": [
    {
     "data": {
      "text/plain": [
       "array(['City2', 'City5', 'City4', 'City1', 'City3', 'City7', 'City6'],\n",
       "      dtype=object)"
      ]
     },
     "execution_count": 209,
     "metadata": {},
     "output_type": "execute_result"
    }
   ],
   "source": [
    "IncidentCity_=Cat_['IncidentCity']\n",
    "IncidentCity_=pd.DataFrame(IncidentCity_)\n",
    "IncidentCity_.IncidentCity.unique()"
   ]
  },
  {
   "cell_type": "code",
   "execution_count": 210,
   "id": "1112c05c",
   "metadata": {},
   "outputs": [],
   "source": [
    "IncidentCity_=pd.get_dummies(IncidentCity_)\n",
    "Cat_.drop(['IncidentCity'],axis=1,inplace=True)\n",
    "Cat_=pd.concat([Cat_,IncidentCity_], axis=\"columns\",join=\"inner\")"
   ]
  },
  {
   "cell_type": "markdown",
   "id": "c1c7473b",
   "metadata": {},
   "source": [
    "# PropertyDamage"
   ]
  },
  {
   "cell_type": "code",
   "execution_count": 211,
   "id": "df75c048",
   "metadata": {},
   "outputs": [
    {
     "data": {
      "text/plain": [
       "array(['?', 'YES', 'NO'], dtype=object)"
      ]
     },
     "execution_count": 211,
     "metadata": {},
     "output_type": "execute_result"
    }
   ],
   "source": [
    "PropertyDamage=Cat['PropertyDamage']\n",
    "PropertyDamage=pd.DataFrame(PropertyDamage)\n",
    "PropertyDamage.PropertyDamage.unique()"
   ]
  },
  {
   "cell_type": "code",
   "execution_count": 212,
   "id": "66c938b5",
   "metadata": {},
   "outputs": [
    {
     "data": {
      "text/plain": [
       "PropertyDamage\n",
       "?                 10459\n",
       "NO                 9687\n",
       "YES                8690\n",
       "dtype: int64"
      ]
     },
     "execution_count": 212,
     "metadata": {},
     "output_type": "execute_result"
    }
   ],
   "source": [
    "PropertyDamage.value_counts()"
   ]
  },
  {
   "cell_type": "code",
   "execution_count": 213,
   "id": "b345b037",
   "metadata": {},
   "outputs": [],
   "source": [
    "PropertyDamage['PropertyDamage'] = PropertyDamage['PropertyDamage'].replace(to_replace='?', value='NO')"
   ]
  },
  {
   "cell_type": "code",
   "execution_count": 214,
   "id": "2e1b3afc",
   "metadata": {},
   "outputs": [],
   "source": [
    "PropertyDamage=pd.get_dummies(PropertyDamage)\n",
    "Cat.drop(['PropertyDamage'],axis=1,inplace=True)\n",
    "Cat=pd.concat([Cat,PropertyDamage], axis=\"columns\",join=\"inner\")"
   ]
  },
  {
   "cell_type": "code",
   "execution_count": 215,
   "id": "561d9785",
   "metadata": {},
   "outputs": [
    {
     "data": {
      "text/plain": [
       "array(['NO', '?', 'YES'], dtype=object)"
      ]
     },
     "execution_count": 215,
     "metadata": {},
     "output_type": "execute_result"
    }
   ],
   "source": [
    "PropertyDamage_=Cat_['PropertyDamage']\n",
    "PropertyDamage_=pd.DataFrame(PropertyDamage_)\n",
    "PropertyDamage_.PropertyDamage.unique()"
   ]
  },
  {
   "cell_type": "code",
   "execution_count": 216,
   "id": "3ddc5c8f",
   "metadata": {},
   "outputs": [
    {
     "data": {
      "text/plain": [
       "PropertyDamage\n",
       "?                 3199\n",
       "NO                3039\n",
       "YES               2674\n",
       "dtype: int64"
      ]
     },
     "execution_count": 216,
     "metadata": {},
     "output_type": "execute_result"
    }
   ],
   "source": [
    "PropertyDamage_.value_counts()"
   ]
  },
  {
   "cell_type": "code",
   "execution_count": 217,
   "id": "fbf4a918",
   "metadata": {},
   "outputs": [],
   "source": [
    "PropertyDamage_['PropertyDamage'] = PropertyDamage_['PropertyDamage'].replace(to_replace='?', value='NO')"
   ]
  },
  {
   "cell_type": "code",
   "execution_count": 218,
   "id": "3ef0ab33",
   "metadata": {},
   "outputs": [],
   "source": [
    "PropertyDamage_=pd.get_dummies(PropertyDamage_)\n",
    "Cat_.drop(['PropertyDamage'],axis=1,inplace=True)\n",
    "Cat_=pd.concat([Cat_,PropertyDamage_], axis=\"columns\",join=\"inner\")"
   ]
  },
  {
   "cell_type": "markdown",
   "id": "2ed46239",
   "metadata": {},
   "source": [
    "# Witnesses"
   ]
  },
  {
   "cell_type": "code",
   "execution_count": 219,
   "id": "5035fc94",
   "metadata": {},
   "outputs": [
    {
     "data": {
      "text/plain": [
       "array(['0', '1', '3', '2', 'MISSINGVALUE'], dtype=object)"
      ]
     },
     "execution_count": 219,
     "metadata": {},
     "output_type": "execute_result"
    }
   ],
   "source": [
    "Witnesses=Cat['Witnesses']\n",
    "Witnesses=pd.DataFrame(Witnesses)\n",
    "Witnesses.Witnesses.unique()"
   ]
  },
  {
   "cell_type": "code",
   "execution_count": 220,
   "id": "0cb0b8ad",
   "metadata": {},
   "outputs": [
    {
     "data": {
      "text/plain": [
       "Witnesses   \n",
       "2               8449\n",
       "1               8345\n",
       "0               6128\n",
       "3               5868\n",
       "MISSINGVALUE      46\n",
       "dtype: int64"
      ]
     },
     "execution_count": 220,
     "metadata": {},
     "output_type": "execute_result"
    }
   ],
   "source": [
    "Witnesses.value_counts()"
   ]
  },
  {
   "cell_type": "code",
   "execution_count": 221,
   "id": "2a2cf2a4",
   "metadata": {},
   "outputs": [],
   "source": [
    "Witnesses['Witnesses'] = Witnesses['Witnesses'].replace(to_replace='MISSINGVALUE', value='0')"
   ]
  },
  {
   "cell_type": "code",
   "execution_count": 222,
   "id": "e1d275de",
   "metadata": {},
   "outputs": [],
   "source": [
    "Witnesses['Witnesses'] = Witnesses['Witnesses'].replace(to_replace='0', value='wit_0')\n",
    "Witnesses['Witnesses'] = Witnesses['Witnesses'].replace(to_replace='1', value='wit_1')\n",
    "Witnesses['Witnesses'] = Witnesses['Witnesses'].replace(to_replace='2', value='wit_2')\n",
    "Witnesses['Witnesses'] = Witnesses['Witnesses'].replace(to_replace='3', value='wit_3')"
   ]
  },
  {
   "cell_type": "code",
   "execution_count": 223,
   "id": "183baf07",
   "metadata": {},
   "outputs": [],
   "source": [
    "Witnesses=pd.get_dummies(Witnesses)\n",
    "Cat.drop(['Witnesses'],axis=1,inplace=True)\n",
    "Cat=pd.concat([Cat,Witnesses], axis=\"columns\",join=\"inner\")"
   ]
  },
  {
   "cell_type": "code",
   "execution_count": 224,
   "id": "1ceb4c4a",
   "metadata": {},
   "outputs": [
    {
     "data": {
      "text/plain": [
       "array(['0', '1', '3', '2', 'MISSINGVALUE'], dtype=object)"
      ]
     },
     "execution_count": 224,
     "metadata": {},
     "output_type": "execute_result"
    }
   ],
   "source": [
    "Witnesses_=Cat_['Witnesses']\n",
    "Witnesses_=pd.DataFrame(Witnesses_)\n",
    "Witnesses_.Witnesses.unique()"
   ]
  },
  {
   "cell_type": "code",
   "execution_count": 225,
   "id": "baecb888",
   "metadata": {},
   "outputs": [],
   "source": [
    "Witnesses_['Witnesses'] = Witnesses_['Witnesses'].replace(to_replace='MISSINGVALUE', value='0')"
   ]
  },
  {
   "cell_type": "code",
   "execution_count": 226,
   "id": "c47bf10d",
   "metadata": {},
   "outputs": [],
   "source": [
    "Witnesses_['Witnesses'] = Witnesses_['Witnesses'].replace(to_replace='0', value='wit_0')\n",
    "Witnesses_['Witnesses'] = Witnesses_['Witnesses'].replace(to_replace='1', value='wit_1')\n",
    "Witnesses_['Witnesses'] = Witnesses_['Witnesses'].replace(to_replace='2', value='wit_2')\n",
    "Witnesses_['Witnesses'] = Witnesses_['Witnesses'].replace(to_replace='3', value='wit_3')"
   ]
  },
  {
   "cell_type": "code",
   "execution_count": 227,
   "id": "7cea5288",
   "metadata": {},
   "outputs": [],
   "source": [
    "Witnesses_=pd.get_dummies(Witnesses_)\n",
    "Cat_.drop(['Witnesses'],axis=1,inplace=True)\n",
    "Cat_=pd.concat([Cat_,Witnesses_], axis=\"columns\",join=\"inner\")"
   ]
  },
  {
   "cell_type": "code",
   "execution_count": 228,
   "id": "aedc138a",
   "metadata": {},
   "outputs": [],
   "source": [
    "Cat_=Cat_.iloc[:,:47]"
   ]
  },
  {
   "cell_type": "markdown",
   "id": "3d590505",
   "metadata": {},
   "source": [
    "# PoliceReport"
   ]
  },
  {
   "cell_type": "code",
   "execution_count": 229,
   "id": "2e27b820",
   "metadata": {},
   "outputs": [
    {
     "data": {
      "text/plain": [
       "0          ?\n",
       "1        YES\n",
       "2         NO\n",
       "3         NO\n",
       "4        YES\n",
       "        ... \n",
       "28831      ?\n",
       "28832    YES\n",
       "28833    YES\n",
       "28834    YES\n",
       "28835    YES\n",
       "Name: PoliceReport, Length: 28836, dtype: object"
      ]
     },
     "execution_count": 229,
     "metadata": {},
     "output_type": "execute_result"
    }
   ],
   "source": [
    "PoliceReport=Cat['PoliceReport']\n",
    "PoliceReport"
   ]
  },
  {
   "cell_type": "code",
   "execution_count": 230,
   "id": "4aa2c67d",
   "metadata": {},
   "outputs": [
    {
     "data": {
      "text/plain": [
       "PoliceReport\n",
       "NO              9898\n",
       "?               9805\n",
       "YES             9133\n",
       "dtype: int64"
      ]
     },
     "execution_count": 230,
     "metadata": {},
     "output_type": "execute_result"
    }
   ],
   "source": [
    "PoliceReport=pd.DataFrame(PoliceReport)\n",
    "PoliceReport.value_counts()"
   ]
  },
  {
   "cell_type": "code",
   "execution_count": 231,
   "id": "38559063",
   "metadata": {},
   "outputs": [],
   "source": [
    "PoliceReport['PoliceReport'] = PoliceReport['PoliceReport'].replace(to_replace='?', value='NO')"
   ]
  },
  {
   "cell_type": "code",
   "execution_count": 232,
   "id": "00289201",
   "metadata": {},
   "outputs": [],
   "source": [
    "PoliceReport=pd.get_dummies(PoliceReport)\n",
    "Cat.drop(['PoliceReport'],axis=1,inplace=True)\n",
    "Cat=pd.concat([Cat,PoliceReport], axis=\"columns\",join=\"inner\")"
   ]
  },
  {
   "cell_type": "code",
   "execution_count": 233,
   "id": "3abe5ed0",
   "metadata": {},
   "outputs": [
    {
     "data": {
      "text/plain": [
       "0         ?\n",
       "1         ?\n",
       "2         ?\n",
       "3         ?\n",
       "4        NO\n",
       "       ... \n",
       "8907     NO\n",
       "8908    YES\n",
       "8909     NO\n",
       "8910    YES\n",
       "8911      ?\n",
       "Name: PoliceReport, Length: 8912, dtype: object"
      ]
     },
     "execution_count": 233,
     "metadata": {},
     "output_type": "execute_result"
    }
   ],
   "source": [
    "PoliceReport_=Cat_['PoliceReport']\n",
    "PoliceReport_"
   ]
  },
  {
   "cell_type": "code",
   "execution_count": 234,
   "id": "4480774c",
   "metadata": {},
   "outputs": [
    {
     "data": {
      "text/plain": [
       "PoliceReport\n",
       "NO              3055\n",
       "?               3014\n",
       "YES             2843\n",
       "dtype: int64"
      ]
     },
     "execution_count": 234,
     "metadata": {},
     "output_type": "execute_result"
    }
   ],
   "source": [
    "PoliceReport_=pd.DataFrame(PoliceReport_)\n",
    "PoliceReport_.value_counts()"
   ]
  },
  {
   "cell_type": "code",
   "execution_count": 235,
   "id": "5f9c48b7",
   "metadata": {},
   "outputs": [],
   "source": [
    "PoliceReport_['PoliceReport'] = PoliceReport_['PoliceReport'].replace(to_replace='?', value='NO')"
   ]
  },
  {
   "cell_type": "code",
   "execution_count": 236,
   "id": "8188edea",
   "metadata": {},
   "outputs": [],
   "source": [
    "PoliceReport_=pd.get_dummies(PoliceReport_)\n",
    "Cat_.drop(['PoliceReport'],axis=1,inplace=True)\n",
    "Cat_=pd.concat([Cat_,PoliceReport_], axis=\"columns\",join=\"inner\")\n"
   ]
  },
  {
   "cell_type": "markdown",
   "id": "4cd7d0bb",
   "metadata": {},
   "source": [
    "# AmountOfTotalClaim"
   ]
  },
  {
   "cell_type": "code",
   "execution_count": 237,
   "id": "58706a57",
   "metadata": {},
   "outputs": [],
   "source": [
    "AmountOfTotalClaim=Cat['AmountOfTotalClaim']\n",
    "AmountOfTotalClaim=pd.DataFrame(AmountOfTotalClaim)"
   ]
  },
  {
   "cell_type": "code",
   "execution_count": 238,
   "id": "68e8d715",
   "metadata": {},
   "outputs": [],
   "source": [
    "AmountOfTotalClaim['AmountOfTotalClaim'] = AmountOfTotalClaim['AmountOfTotalClaim'].replace(to_replace='MISSEDDATA', value='0')"
   ]
  },
  {
   "cell_type": "code",
   "execution_count": 239,
   "id": "d734200c",
   "metadata": {},
   "outputs": [],
   "source": [
    "AmountOfTotalClaim=pd.DataFrame(AmountOfTotalClaim)\n",
    "AmountOfTotalClaim['AmountOfTotalClaim_'] = AmountOfTotalClaim['AmountOfTotalClaim'].astype(str).astype(float)\n",
    "AmountOfTotalClaim['AmountOfTotalClaim_'] = AmountOfTotalClaim['AmountOfTotalClaim_'].replace(to_replace=0, value=58328)\n",
    "Cat=pd.concat([Cat,AmountOfTotalClaim], axis=\"columns\",join=\"inner\")"
   ]
  },
  {
   "cell_type": "code",
   "execution_count": 240,
   "id": "4bd32b1c",
   "metadata": {},
   "outputs": [],
   "source": [
    "Cat.drop('AmountOfTotalClaim', axis=1, inplace=True)"
   ]
  },
  {
   "cell_type": "code",
   "execution_count": 241,
   "id": "bbf059ca",
   "metadata": {},
   "outputs": [],
   "source": [
    "AmountOfTotalClaim_=Cat_['AmountOfTotalClaim']\n",
    "AmountOfTotalClaim_=pd.DataFrame(AmountOfTotalClaim_)"
   ]
  },
  {
   "cell_type": "code",
   "execution_count": 242,
   "id": "0b0d89dd",
   "metadata": {},
   "outputs": [],
   "source": [
    "AmountOfTotalClaim_['AmountOfTotalClaim'] = AmountOfTotalClaim_['AmountOfTotalClaim'].replace(to_replace='MISSEDDATA', value='0')"
   ]
  },
  {
   "cell_type": "code",
   "execution_count": 243,
   "id": "bdc3ae5b",
   "metadata": {},
   "outputs": [],
   "source": [
    "AmountOfTotalClaim_=pd.DataFrame(AmountOfTotalClaim_)\n",
    "AmountOfTotalClaim_['AmountOfTotalClaim_'] = AmountOfTotalClaim_['AmountOfTotalClaim'].astype(str).astype(float)\n",
    "AmountOfTotalClaim_['AmountOfTotalClaim_'] = AmountOfTotalClaim_['AmountOfTotalClaim_'].replace(to_replace=0, value=58328)\n",
    "Cat_=pd.concat([Cat_,AmountOfTotalClaim_], axis=\"columns\",join=\"inner\")"
   ]
  },
  {
   "cell_type": "code",
   "execution_count": 244,
   "id": "fa574c19",
   "metadata": {},
   "outputs": [],
   "source": [
    "Cat_.drop('AmountOfTotalClaim', axis=1, inplace=True)"
   ]
  },
  {
   "cell_type": "markdown",
   "id": "17a93e83",
   "metadata": {},
   "source": [
    "# InsuredGender"
   ]
  },
  {
   "cell_type": "code",
   "execution_count": 245,
   "id": "d5a5fd06",
   "metadata": {},
   "outputs": [
    {
     "data": {
      "text/plain": [
       "InsuredGender\n",
       "FEMALE           15644\n",
       "MALE             13162\n",
       "dtype: int64"
      ]
     },
     "execution_count": 245,
     "metadata": {},
     "output_type": "execute_result"
    }
   ],
   "source": [
    "InsuredGender=Cat['InsuredGender']\n",
    "InsuredGender=pd.DataFrame(InsuredGender)\n",
    "InsuredGender.value_counts()"
   ]
  },
  {
   "cell_type": "code",
   "execution_count": 246,
   "id": "22e44be2",
   "metadata": {},
   "outputs": [],
   "source": [
    "InsuredGender=pd.get_dummies(InsuredGender)\n",
    "Cat.drop(['InsuredGender'],axis=1,inplace=True)\n",
    "Cat=pd.concat([Cat,InsuredGender], axis=\"columns\",join=\"inner\")"
   ]
  },
  {
   "cell_type": "code",
   "execution_count": 247,
   "id": "28bb3ef4",
   "metadata": {},
   "outputs": [
    {
     "data": {
      "text/plain": [
       "InsuredGender\n",
       "FEMALE           4840\n",
       "MALE             4064\n",
       "dtype: int64"
      ]
     },
     "execution_count": 247,
     "metadata": {},
     "output_type": "execute_result"
    }
   ],
   "source": [
    "InsuredGender_=Cat_['InsuredGender']\n",
    "InsuredGender_=pd.DataFrame(InsuredGender_)\n",
    "InsuredGender_.value_counts()"
   ]
  },
  {
   "cell_type": "code",
   "execution_count": 248,
   "id": "e4061d1d",
   "metadata": {},
   "outputs": [],
   "source": [
    "InsuredGender_=pd.get_dummies(InsuredGender_)\n",
    "Cat_.drop(['InsuredGender'],axis=1,inplace=True)\n",
    "Cat_=pd.concat([Cat_,InsuredGender_], axis=\"columns\",join=\"inner\")"
   ]
  },
  {
   "cell_type": "markdown",
   "id": "796ed6b9",
   "metadata": {},
   "source": [
    "# VehicleYOM                        "
   ]
  },
  {
   "cell_type": "code",
   "execution_count": 249,
   "id": "56f38983",
   "metadata": {},
   "outputs": [],
   "source": [
    "VehicleYOM=Cat['VehicleYOM']\n",
    "VehicleYOM=pd.DataFrame(VehicleYOM)\n",
    "VehicleYOM=pd.get_dummies(VehicleYOM)\n",
    "Cat.drop(['VehicleYOM'],axis=1,inplace=True)\n",
    "Cat=pd.concat([Cat,VehicleYOM], axis=\"columns\",join=\"inner\")"
   ]
  },
  {
   "cell_type": "code",
   "execution_count": 250,
   "id": "54a0c55e",
   "metadata": {},
   "outputs": [],
   "source": [
    "VehicleYOM_=Cat_['VehicleYOM']\n",
    "VehicleYOM_=pd.DataFrame(VehicleYOM_)\n",
    "VehicleYOM_=pd.get_dummies(VehicleYOM_)\n",
    "Cat_.drop(['VehicleYOM'],axis=1,inplace=True)\n",
    "Cat_=pd.concat([Cat_,VehicleYOM], axis=\"columns\",join=\"inner\")"
   ]
  },
  {
   "cell_type": "code",
   "execution_count": 251,
   "id": "bab5eaf6",
   "metadata": {},
   "outputs": [],
   "source": [
    "Cat.drop(['VehicleModel'],axis=1,inplace=True)\n",
    "Cat.drop(['InsurancePolicyState'],axis=1,inplace=True)   \n",
    "Cat.drop(['DateOfPolicyCoverage'],axis=1,inplace=True)"
   ]
  },
  {
   "cell_type": "code",
   "execution_count": 252,
   "id": "a423b605",
   "metadata": {},
   "outputs": [],
   "source": [
    "Cat_.drop(['VehicleModel'],axis=1,inplace=True)\n",
    "Cat_.drop(['InsurancePolicyState'],axis=1,inplace=True) \n",
    "Cat_.drop(['DateOfPolicyCoverage'],axis=1,inplace=True)"
   ]
  },
  {
   "cell_type": "markdown",
   "id": "020bf810",
   "metadata": {},
   "source": [
    "# InsuredOccupation"
   ]
  },
  {
   "cell_type": "code",
   "execution_count": 253,
   "id": "5b27baf1",
   "metadata": {},
   "outputs": [],
   "source": [
    "InsuredOccupation =Cat['InsuredOccupation']                                         \n",
    "InsuredOccupation=pd.DataFrame(InsuredOccupation)"
   ]
  },
  {
   "cell_type": "code",
   "execution_count": 254,
   "id": "030bbde3",
   "metadata": {},
   "outputs": [],
   "source": [
    "InsuredOccupation=pd.get_dummies(InsuredOccupation)\n",
    "Cat.drop(['InsuredOccupation'],axis=1,inplace=True)\n",
    "Cat=pd.concat([Cat,InsuredOccupation], axis=\"columns\",join=\"inner\")"
   ]
  },
  {
   "cell_type": "code",
   "execution_count": 255,
   "id": "db00acf8",
   "metadata": {},
   "outputs": [],
   "source": [
    "InsuredOccupation_ =Cat_['InsuredOccupation']                                         \n",
    "InsuredOccupation_=pd.DataFrame(InsuredOccupation_)"
   ]
  },
  {
   "cell_type": "code",
   "execution_count": 256,
   "id": "c74ccb89",
   "metadata": {},
   "outputs": [],
   "source": [
    "InsuredOccupation_=pd.get_dummies(InsuredOccupation_)\n",
    "Cat_.drop(['InsuredOccupation'],axis=1,inplace=True)\n",
    "Cat_=pd.concat([Cat_,InsuredOccupation_], axis=\"columns\",join=\"inner\")"
   ]
  },
  {
   "cell_type": "markdown",
   "id": "2af1a2a2",
   "metadata": {},
   "source": [
    "# InsuredHobbies "
   ]
  },
  {
   "cell_type": "code",
   "execution_count": 257,
   "id": "fda86efc",
   "metadata": {},
   "outputs": [],
   "source": [
    "InsuredHobbies =Cat['InsuredHobbies']                                         \n",
    "InsuredHobbies=pd.DataFrame(InsuredHobbies)"
   ]
  },
  {
   "cell_type": "code",
   "execution_count": 258,
   "id": "09a0e02f",
   "metadata": {},
   "outputs": [],
   "source": [
    "InsuredHobbies=pd.get_dummies(InsuredHobbies)\n",
    "Cat.drop(['InsuredHobbies'],axis=1,inplace=True)\n",
    "Cat=pd.concat([Cat,InsuredHobbies], axis=\"columns\",join=\"inner\")"
   ]
  },
  {
   "cell_type": "code",
   "execution_count": 259,
   "id": "68e88b53",
   "metadata": {},
   "outputs": [],
   "source": [
    "InsuredHobbies_ =Cat_['InsuredHobbies']                                         \n",
    "InsuredHobbies_=pd.DataFrame(InsuredHobbies_)"
   ]
  },
  {
   "cell_type": "code",
   "execution_count": 260,
   "id": "99c72600",
   "metadata": {},
   "outputs": [],
   "source": [
    "InsuredHobbies_=pd.get_dummies(InsuredHobbies_)\n",
    "Cat_.drop(['InsuredHobbies'],axis=1,inplace=True)\n",
    "Cat_=pd.concat([Cat_,InsuredHobbies_], axis=\"columns\",join=\"inner\")"
   ]
  },
  {
   "cell_type": "code",
   "execution_count": 261,
   "id": "7dd23a49",
   "metadata": {},
   "outputs": [],
   "source": [
    "ReportedFraud=Cat['ReportedFraud']      \n",
    "Cat.drop(['ReportedFraud'],axis=1,inplace=True)\n",
    "ReportedFraud=pd.DataFrame(ReportedFraud)\n",
    "encoder= ce.OrdinalEncoder(cols=['ReportedFraud'],return_df=True, mapping=[{'col':'ReportedFraud','mapping':{'Y':1,'N':0}}])\n",
    "ReportedFraud['ReportedFraud'] = encoder.fit_transform(ReportedFraud)\n",
    "Cat=pd.concat([Cat,ReportedFraud], axis=\"columns\",join=\"inner\")"
   ]
  },
  {
   "cell_type": "code",
   "execution_count": 262,
   "id": "d93e918a",
   "metadata": {},
   "outputs": [],
   "source": [
    "ReportedFraud['ReportedFraud'] = ReportedFraud['ReportedFraud'].astype(str).astype(int)"
   ]
  },
  {
   "cell_type": "code",
   "execution_count": 263,
   "id": "d6578ee2",
   "metadata": {},
   "outputs": [],
   "source": [
    "ReportedFraud=Cat['ReportedFraud']\n",
    "ReportedFraud=pd.get_dummies(ReportedFraud)\n",
    "ReportedFraud=ReportedFraud.sum()\n",
    "ReportedFraud=pd.DataFrame(ReportedFraud)"
   ]
  },
  {
   "cell_type": "code",
   "execution_count": 264,
   "id": "78eaaafb",
   "metadata": {},
   "outputs": [
    {
     "data": {
      "image/png": "[encoded data removed]",
      "text/plain": [
       "<Figure size 720x360 with 1 Axes>"
      ]
     },
     "metadata": {
      "needs_background": "light"
     },
     "output_type": "display_data"
    }
   ],
   "source": [
    "ReportedFraud.plot.bar(figsize=(10,5),rot=0, title=\"Frequency distribution of Fraud\")\n",
    "plot.show(block=True)"
   ]
  },
  {
   "cell_type": "markdown",
   "id": "1018e7cf",
   "metadata": {},
   "source": [
    "# Policy_CombinedSingleLimit"
   ]
  },
  {
   "cell_type": "code",
   "execution_count": 265,
   "id": "628dd1cf",
   "metadata": {},
   "outputs": [],
   "source": [
    "Policy_CombinedSingleLimit=Cat['Policy_CombinedSingleLimit']   \n",
    "Policy_CombinedSingleLimit=pd.DataFrame(Policy_CombinedSingleLimit)"
   ]
  },
  {
   "cell_type": "code",
   "execution_count": 266,
   "id": "8a3a6583",
   "metadata": {},
   "outputs": [],
   "source": [
    "Policy_CombinedSingleLimit=pd.get_dummies(Policy_CombinedSingleLimit)\n",
    "Cat.drop(['Policy_CombinedSingleLimit'],axis=1,inplace=True)\n",
    "Cat=pd.concat([Cat,Policy_CombinedSingleLimit], axis=\"columns\",join=\"inner\")"
   ]
  },
  {
   "cell_type": "code",
   "execution_count": 267,
   "id": "a6b5b509",
   "metadata": {},
   "outputs": [],
   "source": [
    "Policy_CombinedSingleLimit_=Cat_['Policy_CombinedSingleLimit']   \n",
    "Policy_CombinedSingleLimit_=pd.DataFrame(Policy_CombinedSingleLimit_)"
   ]
  },
  {
   "cell_type": "code",
   "execution_count": 268,
   "id": "cce258c9",
   "metadata": {},
   "outputs": [],
   "source": [
    "Policy_CombinedSingleLimit_=pd.get_dummies(Policy_CombinedSingleLimit_)\n",
    "Cat_.drop(['Policy_CombinedSingleLimit'],axis=1,inplace=True)\n",
    "Cat_=pd.concat([Cat_,Policy_CombinedSingleLimit_], axis=\"columns\",join=\"inner\")"
   ]
  },
  {
   "cell_type": "markdown",
   "id": "e1f331e2",
   "metadata": {},
   "source": [
    "# Numerical columns"
   ]
  },
  {
   "cell_type": "code",
   "execution_count": 269,
   "id": "46b5520b",
   "metadata": {},
   "outputs": [],
   "source": [
    "Num=Train_data.select_dtypes(include=['int64'])\n",
    "Num_=Test_data.select_dtypes(include=['int64'])"
   ]
  },
  {
   "cell_type": "code",
   "execution_count": 270,
   "id": "2ecaa70f",
   "metadata": {},
   "outputs": [],
   "source": [
    "AmountOfTotalClaim=Cat['AmountOfTotalClaim_']\n",
    "Num=pd.concat([Num,AmountOfTotalClaim], axis=\"columns\",join=\"inner\")\n",
    "AmountOfTotalClaim_=Cat_['AmountOfTotalClaim_']\n",
    "Num_=pd.concat([Num_,AmountOfTotalClaim_], axis=\"columns\",join=\"inner\")"
   ]
  },
  {
   "cell_type": "code",
   "execution_count": 271,
   "id": "5c410343",
   "metadata": {},
   "outputs": [
    {
     "data": {
      "text/plain": [
       "Text(0.5, 1.0, 'Correlation coefficiency of All features ')"
      ]
     },
     "execution_count": 271,
     "metadata": {},
     "output_type": "execute_result"
    },
    {
     "data": {
      "image/png": "[encoded data removed]",
      "text/plain": [
       "<Figure size 1368x720 with 2 Axes>"
      ]
     },
     "metadata": {
      "needs_background": "light"
     },
     "output_type": "display_data"
    }
   ],
   "source": [
    "f,ax=plot.subplots(1,1,figsize=(19,10))\n",
    "sns.heatmap(Num.corr(),annot=True)\n",
    "ax.set_title('Correlation coefficiency of All features ',fontsize=16)"
   ]
  },
  {
   "cell_type": "code",
   "execution_count": 272,
   "id": "2955083e",
   "metadata": {},
   "outputs": [],
   "source": [
    "Num.drop(['AmountOfTotalClaim_','AmountOfPropertyClaim','AmountOfInjuryClaim','InsuredAge'],axis=1,inplace=True)\n",
    "Num_.drop(['AmountOfTotalClaim_','AmountOfPropertyClaim','AmountOfInjuryClaim','InsuredAge'],axis=1,inplace=True) "
   ]
  },
  {
   "cell_type": "markdown",
   "id": "17fb73ad",
   "metadata": {},
   "source": [
    "# VIF"
   ]
  },
  {
   "cell_type": "code",
   "execution_count": 273,
   "id": "8ce1cd2a",
   "metadata": {},
   "outputs": [
    {
     "name": "stdout",
     "output_type": "stream",
     "text": [
      "                 feature       VIF\n",
      "0           IncidentTime  4.631534\n",
      "1       NumberOfVehicles  4.575360\n",
      "2         BodilyInjuries  2.346542\n",
      "3  AmountOfVehicleDamage  5.552233\n",
      "4           CapitalGains  1.669403\n",
      "5            CapitalLoss  1.748814\n",
      "6      Policy_Deductible  4.019787\n",
      "7          UmbrellaLimit  1.231336\n"
     ]
    }
   ],
   "source": [
    "from statsmodels.stats.outliers_influence import variance_inflation_factor\n",
    "X = Num[['IncidentTime','NumberOfVehicles','BodilyInjuries','AmountOfVehicleDamage','CapitalGains','CapitalLoss','Policy_Deductible','UmbrellaLimit']]\n",
    "\n",
    "vif_data = pd.DataFrame()\n",
    "vif_data[\"feature\"] = X.columns\n",
    "  \n",
    "vif_data[\"VIF\"] = [variance_inflation_factor(X.values, i)\n",
    "                          for i in range(len(X.columns))]\n",
    "  \n",
    "print(vif_data)"
   ]
  },
  {
   "cell_type": "code",
   "execution_count": 274,
   "id": "77af463b",
   "metadata": {},
   "outputs": [
    {
     "data": {
      "text/html": [
       "<div>\n",
       "<style scoped>\n",
       "    .dataframe tbody tr th:only-of-type {\n",
       "        vertical-align: middle;\n",
       "    }\n",
       "\n",
       "    .dataframe tbody tr th {\n",
       "        vertical-align: top;\n",
       "    }\n",
       "\n",
       "    .dataframe thead th {\n",
       "        text-align: right;\n",
       "    }\n",
       "</style>\n",
       "<table border=\"1\" class=\"dataframe\">\n",
       "  <thead>\n",
       "    <tr style=\"text-align: right;\">\n",
       "      <th></th>\n",
       "      <th>IncidentTime</th>\n",
       "      <th>NumberOfVehicles</th>\n",
       "      <th>BodilyInjuries</th>\n",
       "      <th>AmountOfVehicleDamage</th>\n",
       "      <th>CapitalGains</th>\n",
       "      <th>CapitalLoss</th>\n",
       "      <th>CustomerLoyaltyPeriod</th>\n",
       "      <th>Policy_Deductible</th>\n",
       "      <th>UmbrellaLimit</th>\n",
       "      <th>PolicyAnnualPremium</th>\n",
       "      <th>...</th>\n",
       "      <th>ReportedFraud</th>\n",
       "      <th>Policy_CombinedSingleLimit_100/1000</th>\n",
       "      <th>Policy_CombinedSingleLimit_100/300</th>\n",
       "      <th>Policy_CombinedSingleLimit_100/500</th>\n",
       "      <th>Policy_CombinedSingleLimit_250/1000</th>\n",
       "      <th>Policy_CombinedSingleLimit_250/300</th>\n",
       "      <th>Policy_CombinedSingleLimit_250/500</th>\n",
       "      <th>Policy_CombinedSingleLimit_500/1000</th>\n",
       "      <th>Policy_CombinedSingleLimit_500/300</th>\n",
       "      <th>Policy_CombinedSingleLimit_500/500</th>\n",
       "    </tr>\n",
       "  </thead>\n",
       "  <tbody>\n",
       "    <tr>\n",
       "      <th>0</th>\n",
       "      <td>17</td>\n",
       "      <td>3</td>\n",
       "      <td>1</td>\n",
       "      <td>46013</td>\n",
       "      <td>56700</td>\n",
       "      <td>-48500</td>\n",
       "      <td>49</td>\n",
       "      <td>1000</td>\n",
       "      <td>0</td>\n",
       "      <td>1632.73</td>\n",
       "      <td>...</td>\n",
       "      <td>0</td>\n",
       "      <td>0</td>\n",
       "      <td>1</td>\n",
       "      <td>0</td>\n",
       "      <td>0</td>\n",
       "      <td>0</td>\n",
       "      <td>0</td>\n",
       "      <td>0</td>\n",
       "      <td>0</td>\n",
       "      <td>0</td>\n",
       "    </tr>\n",
       "    <tr>\n",
       "      <th>1</th>\n",
       "      <td>10</td>\n",
       "      <td>3</td>\n",
       "      <td>2</td>\n",
       "      <td>39903</td>\n",
       "      <td>70600</td>\n",
       "      <td>-48500</td>\n",
       "      <td>114</td>\n",
       "      <td>1000</td>\n",
       "      <td>0</td>\n",
       "      <td>1255.19</td>\n",
       "      <td>...</td>\n",
       "      <td>0</td>\n",
       "      <td>0</td>\n",
       "      <td>1</td>\n",
       "      <td>0</td>\n",
       "      <td>0</td>\n",
       "      <td>0</td>\n",
       "      <td>0</td>\n",
       "      <td>0</td>\n",
       "      <td>0</td>\n",
       "      <td>0</td>\n",
       "    </tr>\n",
       "    <tr>\n",
       "      <th>2</th>\n",
       "      <td>22</td>\n",
       "      <td>1</td>\n",
       "      <td>2</td>\n",
       "      <td>43495</td>\n",
       "      <td>66400</td>\n",
       "      <td>-63700</td>\n",
       "      <td>167</td>\n",
       "      <td>617</td>\n",
       "      <td>0</td>\n",
       "      <td>1373.38</td>\n",
       "      <td>...</td>\n",
       "      <td>0</td>\n",
       "      <td>0</td>\n",
       "      <td>0</td>\n",
       "      <td>0</td>\n",
       "      <td>0</td>\n",
       "      <td>0</td>\n",
       "      <td>0</td>\n",
       "      <td>1</td>\n",
       "      <td>0</td>\n",
       "      <td>0</td>\n",
       "    </tr>\n",
       "    <tr>\n",
       "      <th>3</th>\n",
       "      <td>22</td>\n",
       "      <td>1</td>\n",
       "      <td>2</td>\n",
       "      <td>42237</td>\n",
       "      <td>47900</td>\n",
       "      <td>-73400</td>\n",
       "      <td>190</td>\n",
       "      <td>722</td>\n",
       "      <td>0</td>\n",
       "      <td>1337.60</td>\n",
       "      <td>...</td>\n",
       "      <td>0</td>\n",
       "      <td>0</td>\n",
       "      <td>0</td>\n",
       "      <td>0</td>\n",
       "      <td>0</td>\n",
       "      <td>0</td>\n",
       "      <td>0</td>\n",
       "      <td>1</td>\n",
       "      <td>0</td>\n",
       "      <td>0</td>\n",
       "    </tr>\n",
       "    <tr>\n",
       "      <th>4</th>\n",
       "      <td>10</td>\n",
       "      <td>1</td>\n",
       "      <td>2</td>\n",
       "      <td>37481</td>\n",
       "      <td>0</td>\n",
       "      <td>-41500</td>\n",
       "      <td>115</td>\n",
       "      <td>500</td>\n",
       "      <td>4279863</td>\n",
       "      <td>1353.73</td>\n",
       "      <td>...</td>\n",
       "      <td>0</td>\n",
       "      <td>0</td>\n",
       "      <td>1</td>\n",
       "      <td>0</td>\n",
       "      <td>0</td>\n",
       "      <td>0</td>\n",
       "      <td>0</td>\n",
       "      <td>0</td>\n",
       "      <td>0</td>\n",
       "      <td>0</td>\n",
       "    </tr>\n",
       "    <tr>\n",
       "      <th>...</th>\n",
       "      <td>...</td>\n",
       "      <td>...</td>\n",
       "      <td>...</td>\n",
       "      <td>...</td>\n",
       "      <td>...</td>\n",
       "      <td>...</td>\n",
       "      <td>...</td>\n",
       "      <td>...</td>\n",
       "      <td>...</td>\n",
       "      <td>...</td>\n",
       "      <td>...</td>\n",
       "      <td>...</td>\n",
       "      <td>...</td>\n",
       "      <td>...</td>\n",
       "      <td>...</td>\n",
       "      <td>...</td>\n",
       "      <td>...</td>\n",
       "      <td>...</td>\n",
       "      <td>...</td>\n",
       "      <td>...</td>\n",
       "      <td>...</td>\n",
       "    </tr>\n",
       "    <tr>\n",
       "      <th>28831</th>\n",
       "      <td>3</td>\n",
       "      <td>1</td>\n",
       "      <td>0</td>\n",
       "      <td>4642</td>\n",
       "      <td>0</td>\n",
       "      <td>0</td>\n",
       "      <td>321</td>\n",
       "      <td>655</td>\n",
       "      <td>0</td>\n",
       "      <td>1276.01</td>\n",
       "      <td>...</td>\n",
       "      <td>0</td>\n",
       "      <td>0</td>\n",
       "      <td>0</td>\n",
       "      <td>0</td>\n",
       "      <td>0</td>\n",
       "      <td>0</td>\n",
       "      <td>0</td>\n",
       "      <td>1</td>\n",
       "      <td>0</td>\n",
       "      <td>0</td>\n",
       "    </tr>\n",
       "    <tr>\n",
       "      <th>28832</th>\n",
       "      <td>17</td>\n",
       "      <td>1</td>\n",
       "      <td>0</td>\n",
       "      <td>51973</td>\n",
       "      <td>0</td>\n",
       "      <td>-28800</td>\n",
       "      <td>237</td>\n",
       "      <td>1089</td>\n",
       "      <td>0</td>\n",
       "      <td>1273.38</td>\n",
       "      <td>...</td>\n",
       "      <td>0</td>\n",
       "      <td>0</td>\n",
       "      <td>1</td>\n",
       "      <td>0</td>\n",
       "      <td>0</td>\n",
       "      <td>0</td>\n",
       "      <td>0</td>\n",
       "      <td>0</td>\n",
       "      <td>0</td>\n",
       "      <td>0</td>\n",
       "    </tr>\n",
       "    <tr>\n",
       "      <th>28833</th>\n",
       "      <td>1</td>\n",
       "      <td>1</td>\n",
       "      <td>2</td>\n",
       "      <td>41219</td>\n",
       "      <td>63100</td>\n",
       "      <td>-43800</td>\n",
       "      <td>392</td>\n",
       "      <td>787</td>\n",
       "      <td>3448735</td>\n",
       "      <td>1380.92</td>\n",
       "      <td>...</td>\n",
       "      <td>0</td>\n",
       "      <td>0</td>\n",
       "      <td>0</td>\n",
       "      <td>0</td>\n",
       "      <td>0</td>\n",
       "      <td>0</td>\n",
       "      <td>1</td>\n",
       "      <td>0</td>\n",
       "      <td>0</td>\n",
       "      <td>0</td>\n",
       "    </tr>\n",
       "    <tr>\n",
       "      <th>28834</th>\n",
       "      <td>1</td>\n",
       "      <td>1</td>\n",
       "      <td>2</td>\n",
       "      <td>41712</td>\n",
       "      <td>67400</td>\n",
       "      <td>-43800</td>\n",
       "      <td>391</td>\n",
       "      <td>780</td>\n",
       "      <td>3364301</td>\n",
       "      <td>1389.29</td>\n",
       "      <td>...</td>\n",
       "      <td>0</td>\n",
       "      <td>0</td>\n",
       "      <td>0</td>\n",
       "      <td>0</td>\n",
       "      <td>0</td>\n",
       "      <td>0</td>\n",
       "      <td>1</td>\n",
       "      <td>0</td>\n",
       "      <td>0</td>\n",
       "      <td>0</td>\n",
       "    </tr>\n",
       "    <tr>\n",
       "      <th>28835</th>\n",
       "      <td>9</td>\n",
       "      <td>1</td>\n",
       "      <td>1</td>\n",
       "      <td>50856</td>\n",
       "      <td>46400</td>\n",
       "      <td>-74300</td>\n",
       "      <td>191</td>\n",
       "      <td>2000</td>\n",
       "      <td>2909175</td>\n",
       "      <td>928.43</td>\n",
       "      <td>...</td>\n",
       "      <td>0</td>\n",
       "      <td>0</td>\n",
       "      <td>0</td>\n",
       "      <td>0</td>\n",
       "      <td>0</td>\n",
       "      <td>0</td>\n",
       "      <td>0</td>\n",
       "      <td>1</td>\n",
       "      <td>0</td>\n",
       "      <td>0</td>\n",
       "    </tr>\n",
       "  </tbody>\n",
       "</table>\n",
       "<p>28836 rows × 115 columns</p>\n",
       "</div>"
      ],
      "text/plain": [
       "       IncidentTime  NumberOfVehicles  BodilyInjuries  AmountOfVehicleDamage  \\\n",
       "0                17                 3               1                  46013   \n",
       "1                10                 3               2                  39903   \n",
       "2                22                 1               2                  43495   \n",
       "3                22                 1               2                  42237   \n",
       "4                10                 1               2                  37481   \n",
       "...             ...               ...             ...                    ...   \n",
       "28831             3                 1               0                   4642   \n",
       "28832            17                 1               0                  51973   \n",
       "28833             1                 1               2                  41219   \n",
       "28834             1                 1               2                  41712   \n",
       "28835             9                 1               1                  50856   \n",
       "\n",
       "       CapitalGains  CapitalLoss  CustomerLoyaltyPeriod  Policy_Deductible  \\\n",
       "0             56700       -48500                     49               1000   \n",
       "1             70600       -48500                    114               1000   \n",
       "2             66400       -63700                    167                617   \n",
       "3             47900       -73400                    190                722   \n",
       "4                 0       -41500                    115                500   \n",
       "...             ...          ...                    ...                ...   \n",
       "28831             0            0                    321                655   \n",
       "28832             0       -28800                    237               1089   \n",
       "28833         63100       -43800                    392                787   \n",
       "28834         67400       -43800                    391                780   \n",
       "28835         46400       -74300                    191               2000   \n",
       "\n",
       "       UmbrellaLimit  PolicyAnnualPremium  ...  ReportedFraud  \\\n",
       "0                  0              1632.73  ...              0   \n",
       "1                  0              1255.19  ...              0   \n",
       "2                  0              1373.38  ...              0   \n",
       "3                  0              1337.60  ...              0   \n",
       "4            4279863              1353.73  ...              0   \n",
       "...              ...                  ...  ...            ...   \n",
       "28831              0              1276.01  ...              0   \n",
       "28832              0              1273.38  ...              0   \n",
       "28833        3448735              1380.92  ...              0   \n",
       "28834        3364301              1389.29  ...              0   \n",
       "28835        2909175               928.43  ...              0   \n",
       "\n",
       "       Policy_CombinedSingleLimit_100/1000  \\\n",
       "0                                        0   \n",
       "1                                        0   \n",
       "2                                        0   \n",
       "3                                        0   \n",
       "4                                        0   \n",
       "...                                    ...   \n",
       "28831                                    0   \n",
       "28832                                    0   \n",
       "28833                                    0   \n",
       "28834                                    0   \n",
       "28835                                    0   \n",
       "\n",
       "       Policy_CombinedSingleLimit_100/300  Policy_CombinedSingleLimit_100/500  \\\n",
       "0                                       1                                   0   \n",
       "1                                       1                                   0   \n",
       "2                                       0                                   0   \n",
       "3                                       0                                   0   \n",
       "4                                       1                                   0   \n",
       "...                                   ...                                 ...   \n",
       "28831                                   0                                   0   \n",
       "28832                                   1                                   0   \n",
       "28833                                   0                                   0   \n",
       "28834                                   0                                   0   \n",
       "28835                                   0                                   0   \n",
       "\n",
       "       Policy_CombinedSingleLimit_250/1000  \\\n",
       "0                                        0   \n",
       "1                                        0   \n",
       "2                                        0   \n",
       "3                                        0   \n",
       "4                                        0   \n",
       "...                                    ...   \n",
       "28831                                    0   \n",
       "28832                                    0   \n",
       "28833                                    0   \n",
       "28834                                    0   \n",
       "28835                                    0   \n",
       "\n",
       "       Policy_CombinedSingleLimit_250/300  Policy_CombinedSingleLimit_250/500  \\\n",
       "0                                       0                                   0   \n",
       "1                                       0                                   0   \n",
       "2                                       0                                   0   \n",
       "3                                       0                                   0   \n",
       "4                                       0                                   0   \n",
       "...                                   ...                                 ...   \n",
       "28831                                   0                                   0   \n",
       "28832                                   0                                   0   \n",
       "28833                                   0                                   1   \n",
       "28834                                   0                                   1   \n",
       "28835                                   0                                   0   \n",
       "\n",
       "       Policy_CombinedSingleLimit_500/1000  \\\n",
       "0                                        0   \n",
       "1                                        0   \n",
       "2                                        1   \n",
       "3                                        1   \n",
       "4                                        0   \n",
       "...                                    ...   \n",
       "28831                                    1   \n",
       "28832                                    0   \n",
       "28833                                    0   \n",
       "28834                                    0   \n",
       "28835                                    1   \n",
       "\n",
       "       Policy_CombinedSingleLimit_500/300  Policy_CombinedSingleLimit_500/500  \n",
       "0                                       0                                   0  \n",
       "1                                       0                                   0  \n",
       "2                                       0                                   0  \n",
       "3                                       0                                   0  \n",
       "4                                       0                                   0  \n",
       "...                                   ...                                 ...  \n",
       "28831                                   0                                   0  \n",
       "28832                                   0                                   0  \n",
       "28833                                   0                                   0  \n",
       "28834                                   0                                   0  \n",
       "28835                                   0                                   0  \n",
       "\n",
       "[28836 rows x 115 columns]"
      ]
     },
     "execution_count": 274,
     "metadata": {},
     "output_type": "execute_result"
    }
   ],
   "source": [
    "Num=pd.concat([Num,Cat], axis=\"columns\",join=\"inner\")\n",
    "Num"
   ]
  },
  {
   "cell_type": "code",
   "execution_count": 275,
   "id": "e54535c3",
   "metadata": {},
   "outputs": [],
   "source": [
    "from sklearn.utils import resample\n",
    "Num_Y=Num['ReportedFraud']\n",
    "Num_X=Num.drop(['ReportedFraud'],axis=1)"
   ]
  },
  {
   "cell_type": "code",
   "execution_count": 276,
   "id": "2a9b6ee3",
   "metadata": {},
   "outputs": [],
   "source": [
    "a_train, a_test, b_train, b_test = train_test_split(Num_X, Num_Y, test_size=0.25, random_state=27)"
   ]
  },
  {
   "cell_type": "code",
   "execution_count": 277,
   "id": "ef6dca63",
   "metadata": {},
   "outputs": [],
   "source": [
    "a = pd.concat([a_train, b_train], axis=1)\n",
    "not_fraud = a[a['ReportedFraud']==0]\n",
    "fraud = a[a['ReportedFraud']==1]"
   ]
  },
  {
   "cell_type": "code",
   "execution_count": 278,
   "id": "5067017b",
   "metadata": {},
   "outputs": [],
   "source": [
    "fraud_upsampled = resample(fraud,\n",
    "                          replace=True,\n",
    "                          n_samples=len(not_fraud),\n",
    "                          random_state=27) "
   ]
  },
  {
   "cell_type": "code",
   "execution_count": 279,
   "id": "314e5880",
   "metadata": {},
   "outputs": [
    {
     "data": {
      "text/plain": [
       "0    15793\n",
       "1    15793\n",
       "Name: ReportedFraud, dtype: int64"
      ]
     },
     "execution_count": 279,
     "metadata": {},
     "output_type": "execute_result"
    }
   ],
   "source": [
    "upsampled = pd.concat([not_fraud, fraud_upsampled])\n",
    "upsampled.ReportedFraud.value_counts()"
   ]
  },
  {
   "cell_type": "code",
   "execution_count": 280,
   "id": "a226a759",
   "metadata": {},
   "outputs": [],
   "source": [
    "Y_train_ = upsampled.ReportedFraud\n",
    "X_train_ = upsampled.drop('ReportedFraud', axis=1)"
   ]
  },
  {
   "cell_type": "code",
   "execution_count": 281,
   "id": "edfc5009",
   "metadata": {},
   "outputs": [],
   "source": [
    "Y_train = upsampled.ReportedFraud\n",
    "X_train = upsampled.drop('ReportedFraud', axis=1)"
   ]
  },
  {
   "cell_type": "code",
   "execution_count": 282,
   "id": "443a358e",
   "metadata": {},
   "outputs": [],
   "source": [
    "from sklearn.model_selection import train_test_split\n",
    "X_train_, X_test_, y_train_, y_test_ = train_test_split(X_train_, Y_train_, test_size=0.33, random_state=42)"
   ]
  },
  {
   "cell_type": "code",
   "execution_count": 283,
   "id": "0bafdc24",
   "metadata": {},
   "outputs": [
    {
     "data": {
      "text/plain": [
       "array([1, 0, 0, ..., 0, 0, 0])"
      ]
     },
     "execution_count": 283,
     "metadata": {},
     "output_type": "execute_result"
    }
   ],
   "source": [
    ">>> from sklearn.ensemble import RandomForestClassifier\n",
    ">>> from sklearn.datasets import make_classification\n",
    ">>> clf = RandomForestClassifier(random_state=0)\n",
    ">>> clf.fit(X_train_, y_train_)\n",
    ">>> X_test_=clf.predict(X_test_)\n",
    "X_test_"
   ]
  },
  {
   "cell_type": "code",
   "execution_count": 284,
   "id": "00be9a0d",
   "metadata": {},
   "outputs": [
    {
     "data": {
      "text/plain": [
       "27091    1\n",
       "13242    0\n",
       "17257    0\n",
       "19165    1\n",
       "3417     0\n",
       "        ..\n",
       "26998    1\n",
       "1619     0\n",
       "12055    0\n",
       "244      0\n",
       "19726    0\n",
       "Name: ReportedFraud, Length: 10424, dtype: int32"
      ]
     },
     "execution_count": 284,
     "metadata": {},
     "output_type": "execute_result"
    }
   ],
   "source": [
    "y_test_"
   ]
  },
  {
   "cell_type": "code",
   "execution_count": 285,
   "id": "281035f2",
   "metadata": {},
   "outputs": [
    {
     "data": {
      "image/png": "[encoded data removed]",
      "text/plain": [
       "<Figure size 432x288 with 2 Axes>"
      ]
     },
     "metadata": {
      "needs_background": "light"
     },
     "output_type": "display_data"
    }
   ],
   "source": [
    "#Import the necessary libraries\n",
    "import numpy as np\n",
    "from sklearn.metrics import confusion_matrix\n",
    "import seaborn as sns\n",
    "import matplotlib.pyplot as plt\n",
    "#compute the confusion matrix.\n",
    "cm = confusion_matrix(y_test_,X_test_)\n",
    " \n",
    "#Plot the confusion matrix.\n",
    "sns.heatmap(cm,\n",
    "            annot=True,\n",
    "            fmt='g',\n",
    "            xticklabels=['Fraud','Not Fraud'],\n",
    "            yticklabels=['Fraud','Not Fraud'])\n",
    "plt.ylabel('Prediction',fontsize=13)\n",
    "plt.xlabel('Actual',fontsize=13)\n",
    "plt.title('Confusion Matrix',fontsize=17)\n",
    "plt.show()"
   ]
  },
  {
   "cell_type": "code",
   "execution_count": 287,
   "id": "458e16db",
   "metadata": {},
   "outputs": [
    {
     "name": "stdout",
     "output_type": "stream",
     "text": [
      "              precision    recall  f1-score   support\n",
      "\n",
      "           0       0.97      0.97      0.97      5270\n",
      "           1       0.96      0.97      0.96      5154\n",
      "\n",
      "    accuracy                           0.97     10424\n",
      "   macro avg       0.97      0.97      0.97     10424\n",
      "weighted avg       0.97      0.97      0.97     10424\n",
      "\n"
     ]
    }
   ],
   "source": [
    "from sklearn.metrics import classification_report\n",
    "class_report = classification_report(y_test_,X_test_)\n",
    "print(class_report)"
   ]
  },
  {
   "cell_type": "code",
   "execution_count": 288,
   "id": "71936223",
   "metadata": {},
   "outputs": [
    {
     "name": "stdout",
     "output_type": "stream",
     "text": [
      "<class 'pandas.core.frame.DataFrame'>\n",
      "Int64Index: 31586 entries, 28109 to 4994\n",
      "Columns: 114 entries, IncidentTime to Policy_CombinedSingleLimit_500/500\n",
      "dtypes: float64(2), int64(9), uint8(103)\n",
      "memory usage: 6.0 MB\n"
     ]
    }
   ],
   "source": [
    "X_train.info()"
   ]
  },
  {
   "cell_type": "code",
   "execution_count": 289,
   "id": "ddae80ff",
   "metadata": {},
   "outputs": [],
   "source": [
    "Num_=pd.concat([Num_,Cat_], axis=\"columns\",join=\"inner\")"
   ]
  },
  {
   "cell_type": "code",
   "execution_count": 290,
   "id": "bc9408dc",
   "metadata": {},
   "outputs": [],
   "source": [
    "Num_=pd.concat([cust_,Num_], axis=\"columns\",join=\"inner\")"
   ]
  },
  {
   "cell_type": "code",
   "execution_count": 291,
   "id": "337a680f",
   "metadata": {},
   "outputs": [],
   "source": [
    "As_format=pd.read_csv(r\"C:\\Users\\91831\\Desktop\\CapStone_NISCHAL.B.S_4938_Solution\\Problem Statement\\Sample_Submission.csv\")"
   ]
  },
  {
   "cell_type": "code",
   "execution_count": 292,
   "id": "1b0b3402",
   "metadata": {},
   "outputs": [],
   "source": [
    "Res = pd.merge(As_format, Num_, on=\"CustomerID\")"
   ]
  },
  {
   "cell_type": "code",
   "execution_count": 293,
   "id": "435bb8d4",
   "metadata": {},
   "outputs": [
    {
     "name": "stdout",
     "output_type": "stream",
     "text": [
      "<class 'pandas.core.frame.DataFrame'>\n",
      "Int64Index: 8912 entries, 0 to 8911\n",
      "Columns: 114 entries, IncidentTime to Policy_CombinedSingleLimit_500/500\n",
      "dtypes: float64(2), int64(9), uint8(103)\n",
      "memory usage: 1.7 MB\n"
     ]
    }
   ],
   "source": [
    "Res=Res.drop(['CustomerID'],axis=1)\n",
    "Res=Res.drop(['ReportedFraud'],axis=1)\n",
    "Res.info()"
   ]
  },
  {
   "cell_type": "code",
   "execution_count": 294,
   "id": "2866acf9",
   "metadata": {},
   "outputs": [
    {
     "data": {
      "text/html": [
       "<style>#sk-container-id-1 {color: black;background-color: white;}#sk-container-id-1 pre{padding: 0;}#sk-container-id-1 div.sk-toggleable {background-color: white;}#sk-container-id-1 label.sk-toggleable__label {cursor: pointer;display: block;width: 100%;margin-bottom: 0;padding: 0.3em;box-sizing: border-box;text-align: center;}#sk-container-id-1 label.sk-toggleable__label-arrow:before {content: \"▸\";float: left;margin-right: 0.25em;color: #696969;}#sk-container-id-1 label.sk-toggleable__label-arrow:hover:before {color: black;}#sk-container-id-1 div.sk-estimator:hover label.sk-toggleable__label-arrow:before {color: black;}#sk-container-id-1 div.sk-toggleable__content {max-height: 0;max-width: 0;overflow: hidden;text-align: left;background-color: #f0f8ff;}#sk-container-id-1 div.sk-toggleable__content pre {margin: 0.2em;color: black;border-radius: 0.25em;background-color: #f0f8ff;}#sk-container-id-1 input.sk-toggleable__control:checked~div.sk-toggleable__content {max-height: 200px;max-width: 100%;overflow: auto;}#sk-container-id-1 input.sk-toggleable__control:checked~label.sk-toggleable__label-arrow:before {content: \"▾\";}#sk-container-id-1 div.sk-estimator input.sk-toggleable__control:checked~label.sk-toggleable__label {background-color: #d4ebff;}#sk-container-id-1 div.sk-label input.sk-toggleable__control:checked~label.sk-toggleable__label {background-color: #d4ebff;}#sk-container-id-1 input.sk-hidden--visually {border: 0;clip: rect(1px 1px 1px 1px);clip: rect(1px, 1px, 1px, 1px);height: 1px;margin: -1px;overflow: hidden;padding: 0;position: absolute;width: 1px;}#sk-container-id-1 div.sk-estimator {font-family: monospace;background-color: #f0f8ff;border: 1px dotted black;border-radius: 0.25em;box-sizing: border-box;margin-bottom: 0.5em;}#sk-container-id-1 div.sk-estimator:hover {background-color: #d4ebff;}#sk-container-id-1 div.sk-parallel-item::after {content: \"\";width: 100%;border-bottom: 1px solid gray;flex-grow: 1;}#sk-container-id-1 div.sk-label:hover label.sk-toggleable__label {background-color: #d4ebff;}#sk-container-id-1 div.sk-serial::before {content: \"\";position: absolute;border-left: 1px solid gray;box-sizing: border-box;top: 0;bottom: 0;left: 50%;z-index: 0;}#sk-container-id-1 div.sk-serial {display: flex;flex-direction: column;align-items: center;background-color: white;padding-right: 0.2em;padding-left: 0.2em;position: relative;}#sk-container-id-1 div.sk-item {position: relative;z-index: 1;}#sk-container-id-1 div.sk-parallel {display: flex;align-items: stretch;justify-content: center;background-color: white;position: relative;}#sk-container-id-1 div.sk-item::before, #sk-container-id-1 div.sk-parallel-item::before {content: \"\";position: absolute;border-left: 1px solid gray;box-sizing: border-box;top: 0;bottom: 0;left: 50%;z-index: -1;}#sk-container-id-1 div.sk-parallel-item {display: flex;flex-direction: column;z-index: 1;position: relative;background-color: white;}#sk-container-id-1 div.sk-parallel-item:first-child::after {align-self: flex-end;width: 50%;}#sk-container-id-1 div.sk-parallel-item:last-child::after {align-self: flex-start;width: 50%;}#sk-container-id-1 div.sk-parallel-item:only-child::after {width: 0;}#sk-container-id-1 div.sk-dashed-wrapped {border: 1px dashed gray;margin: 0 0.4em 0.5em 0.4em;box-sizing: border-box;padding-bottom: 0.4em;background-color: white;}#sk-container-id-1 div.sk-label label {font-family: monospace;font-weight: bold;display: inline-block;line-height: 1.2em;}#sk-container-id-1 div.sk-label-container {text-align: center;}#sk-container-id-1 div.sk-container {/* jupyter's `normalize.less` sets `[hidden] { display: none; }` but bootstrap.min.css set `[hidden] { display: none !important; }` so we also need the `!important` here to be able to override the default hidden behavior on the sphinx rendered scikit-learn.org. See: https://github.com/scikit-learn/scikit-learn/issues/21755 */display: inline-block !important;position: relative;}#sk-container-id-1 div.sk-text-repr-fallback {display: none;}</style><div id=\"sk-container-id-1\" class=\"sk-top-container\"><div class=\"sk-text-repr-fallback\"><pre>RandomForestClassifier(n_estimators=30)</pre><b>In a Jupyter environment, please rerun this cell to show the HTML representation or trust the notebook. <br />On GitHub, the HTML representation is unable to render, please try loading this page with nbviewer.org.</b></div><div class=\"sk-container\" hidden><div class=\"sk-item\"><div class=\"sk-estimator sk-toggleable\"><input class=\"sk-toggleable__control sk-hidden--visually\" id=\"sk-estimator-id-1\" type=\"checkbox\" checked><label for=\"sk-estimator-id-1\" class=\"sk-toggleable__label sk-toggleable__label-arrow\">RandomForestClassifier</label><div class=\"sk-toggleable__content\"><pre>RandomForestClassifier(n_estimators=30)</pre></div></div></div></div></div>"
      ],
      "text/plain": [
       "RandomForestClassifier(n_estimators=30)"
      ]
     },
     "execution_count": 294,
     "metadata": {},
     "output_type": "execute_result"
    }
   ],
   "source": [
    "from sklearn.ensemble import RandomForestClassifier\n",
    "y_imp = Y_train\n",
    "X_imp  = X_train\n",
    "rf_model=RandomForestClassifier(bootstrap=True,  max_features = 'sqrt', n_estimators= 30)\n",
    "rf_model.fit(X_imp,y_imp)"
   ]
  },
  {
   "cell_type": "code",
   "execution_count": 295,
   "id": "7da7018b",
   "metadata": {},
   "outputs": [],
   "source": [
    "impotance=rf_model.feature_importances_\n",
    "impotance=pd.DataFrame(impotance)"
   ]
  },
  {
   "cell_type": "code",
   "execution_count": 296,
   "id": "cd69074a",
   "metadata": {},
   "outputs": [
    {
     "data": {
      "text/html": [
       "<div>\n",
       "<style scoped>\n",
       "    .dataframe tbody tr th:only-of-type {\n",
       "        vertical-align: middle;\n",
       "    }\n",
       "\n",
       "    .dataframe tbody tr th {\n",
       "        vertical-align: top;\n",
       "    }\n",
       "\n",
       "    .dataframe thead th {\n",
       "        text-align: right;\n",
       "    }\n",
       "</style>\n",
       "<table border=\"1\" class=\"dataframe\">\n",
       "  <thead>\n",
       "    <tr style=\"text-align: right;\">\n",
       "      <th></th>\n",
       "      <th>0_x</th>\n",
       "      <th>0_y</th>\n",
       "    </tr>\n",
       "  </thead>\n",
       "  <tbody>\n",
       "    <tr>\n",
       "      <th>0</th>\n",
       "      <td>IncidentTime</td>\n",
       "      <td>0.042681</td>\n",
       "    </tr>\n",
       "    <tr>\n",
       "      <th>1</th>\n",
       "      <td>NumberOfVehicles</td>\n",
       "      <td>0.012132</td>\n",
       "    </tr>\n",
       "    <tr>\n",
       "      <th>2</th>\n",
       "      <td>BodilyInjuries</td>\n",
       "      <td>0.020244</td>\n",
       "    </tr>\n",
       "    <tr>\n",
       "      <th>3</th>\n",
       "      <td>AmountOfVehicleDamage</td>\n",
       "      <td>0.058279</td>\n",
       "    </tr>\n",
       "    <tr>\n",
       "      <th>4</th>\n",
       "      <td>CapitalGains</td>\n",
       "      <td>0.030574</td>\n",
       "    </tr>\n",
       "    <tr>\n",
       "      <th>...</th>\n",
       "      <td>...</td>\n",
       "      <td>...</td>\n",
       "    </tr>\n",
       "    <tr>\n",
       "      <th>109</th>\n",
       "      <td>Policy_CombinedSingleLimit_250/300</td>\n",
       "      <td>0.002589</td>\n",
       "    </tr>\n",
       "    <tr>\n",
       "      <th>110</th>\n",
       "      <td>Policy_CombinedSingleLimit_250/500</td>\n",
       "      <td>0.009664</td>\n",
       "    </tr>\n",
       "    <tr>\n",
       "      <th>111</th>\n",
       "      <td>Policy_CombinedSingleLimit_500/1000</td>\n",
       "      <td>0.007796</td>\n",
       "    </tr>\n",
       "    <tr>\n",
       "      <th>112</th>\n",
       "      <td>Policy_CombinedSingleLimit_500/300</td>\n",
       "      <td>0.001695</td>\n",
       "    </tr>\n",
       "    <tr>\n",
       "      <th>113</th>\n",
       "      <td>Policy_CombinedSingleLimit_500/500</td>\n",
       "      <td>0.001879</td>\n",
       "    </tr>\n",
       "  </tbody>\n",
       "</table>\n",
       "<p>114 rows × 2 columns</p>\n",
       "</div>"
      ],
      "text/plain": [
       "                                     0_x       0_y\n",
       "0                           IncidentTime  0.042681\n",
       "1                       NumberOfVehicles  0.012132\n",
       "2                         BodilyInjuries  0.020244\n",
       "3                  AmountOfVehicleDamage  0.058279\n",
       "4                           CapitalGains  0.030574\n",
       "..                                   ...       ...\n",
       "109   Policy_CombinedSingleLimit_250/300  0.002589\n",
       "110   Policy_CombinedSingleLimit_250/500  0.009664\n",
       "111  Policy_CombinedSingleLimit_500/1000  0.007796\n",
       "112   Policy_CombinedSingleLimit_500/300  0.001695\n",
       "113   Policy_CombinedSingleLimit_500/500  0.001879\n",
       "\n",
       "[114 rows x 2 columns]"
      ]
     },
     "execution_count": 296,
     "metadata": {},
     "output_type": "execute_result"
    }
   ],
   "source": [
    "fetch=X_imp.columns\n",
    "fetch=pd.DataFrame(fetch)\n",
    "df_index_ = pd.merge(fetch, impotance, right_index=True, left_index=True)\n",
    "df_index_"
   ]
  },
  {
   "cell_type": "code",
   "execution_count": 297,
   "id": "90dba9bd",
   "metadata": {
    "scrolled": false
   },
   "outputs": [
    {
     "data": {
      "image/png": "[encoded data removed]",
      "text/plain": [
       "<Figure size 3600x3600 with 1 Axes>"
      ]
     },
     "metadata": {
      "needs_background": "light"
     },
     "output_type": "display_data"
    }
   ],
   "source": [
    "df_index_.plot.bar(x='0_x', y='0_y',figsize=(50,50))\n",
    "plot.savefig(\"my_plot.png\")"
   ]
  },
  {
   "cell_type": "code",
   "execution_count": 298,
   "id": "e7c07d8e",
   "metadata": {},
   "outputs": [
    {
     "data": {
      "text/html": [
       "<div>\n",
       "<style scoped>\n",
       "    .dataframe tbody tr th:only-of-type {\n",
       "        vertical-align: middle;\n",
       "    }\n",
       "\n",
       "    .dataframe tbody tr th {\n",
       "        vertical-align: top;\n",
       "    }\n",
       "\n",
       "    .dataframe thead th {\n",
       "        text-align: right;\n",
       "    }\n",
       "</style>\n",
       "<table border=\"1\" class=\"dataframe\">\n",
       "  <thead>\n",
       "    <tr style=\"text-align: right;\">\n",
       "      <th></th>\n",
       "      <th>0_x</th>\n",
       "      <th>0_y</th>\n",
       "    </tr>\n",
       "  </thead>\n",
       "  <tbody>\n",
       "    <tr>\n",
       "      <th>0</th>\n",
       "      <td>IncidentTime</td>\n",
       "      <td>0.042681</td>\n",
       "    </tr>\n",
       "    <tr>\n",
       "      <th>1</th>\n",
       "      <td>NumberOfVehicles</td>\n",
       "      <td>0.012132</td>\n",
       "    </tr>\n",
       "    <tr>\n",
       "      <th>2</th>\n",
       "      <td>BodilyInjuries</td>\n",
       "      <td>0.020244</td>\n",
       "    </tr>\n",
       "    <tr>\n",
       "      <th>3</th>\n",
       "      <td>AmountOfVehicleDamage</td>\n",
       "      <td>0.058279</td>\n",
       "    </tr>\n",
       "    <tr>\n",
       "      <th>4</th>\n",
       "      <td>CapitalGains</td>\n",
       "      <td>0.030574</td>\n",
       "    </tr>\n",
       "    <tr>\n",
       "      <th>5</th>\n",
       "      <td>CapitalLoss</td>\n",
       "      <td>0.031101</td>\n",
       "    </tr>\n",
       "    <tr>\n",
       "      <th>6</th>\n",
       "      <td>CustomerLoyaltyPeriod</td>\n",
       "      <td>0.054906</td>\n",
       "    </tr>\n",
       "    <tr>\n",
       "      <th>7</th>\n",
       "      <td>Policy_Deductible</td>\n",
       "      <td>0.041435</td>\n",
       "    </tr>\n",
       "    <tr>\n",
       "      <th>8</th>\n",
       "      <td>UmbrellaLimit</td>\n",
       "      <td>0.025722</td>\n",
       "    </tr>\n",
       "    <tr>\n",
       "      <th>9</th>\n",
       "      <td>PolicyAnnualPremium</td>\n",
       "      <td>0.054798</td>\n",
       "    </tr>\n",
       "    <tr>\n",
       "      <th>21</th>\n",
       "      <td>AuthoritiesContacted_Police</td>\n",
       "      <td>0.008944</td>\n",
       "    </tr>\n",
       "    <tr>\n",
       "      <th>27</th>\n",
       "      <td>IncidentState_State5</td>\n",
       "      <td>0.008870</td>\n",
       "    </tr>\n",
       "    <tr>\n",
       "      <th>29</th>\n",
       "      <td>IncidentState_State7</td>\n",
       "      <td>0.008758</td>\n",
       "    </tr>\n",
       "    <tr>\n",
       "      <th>31</th>\n",
       "      <td>IncidentState_State9</td>\n",
       "      <td>0.008765</td>\n",
       "    </tr>\n",
       "    <tr>\n",
       "      <th>41</th>\n",
       "      <td>Witnesses_wit_0</td>\n",
       "      <td>0.008743</td>\n",
       "    </tr>\n",
       "    <tr>\n",
       "      <th>47</th>\n",
       "      <td>AmountOfTotalClaim_</td>\n",
       "      <td>0.065432</td>\n",
       "    </tr>\n",
       "    <tr>\n",
       "      <th>48</th>\n",
       "      <td>InsuredGender_FEMALE</td>\n",
       "      <td>0.008220</td>\n",
       "    </tr>\n",
       "    <tr>\n",
       "      <th>49</th>\n",
       "      <td>InsuredGender_MALE</td>\n",
       "      <td>0.008141</td>\n",
       "    </tr>\n",
       "    <tr>\n",
       "      <th>90</th>\n",
       "      <td>InsuredHobbies_chess</td>\n",
       "      <td>0.035883</td>\n",
       "    </tr>\n",
       "    <tr>\n",
       "      <th>91</th>\n",
       "      <td>InsuredHobbies_cross-fit</td>\n",
       "      <td>0.026410</td>\n",
       "    </tr>\n",
       "    <tr>\n",
       "      <th>106</th>\n",
       "      <td>Policy_CombinedSingleLimit_100/300</td>\n",
       "      <td>0.008574</td>\n",
       "    </tr>\n",
       "    <tr>\n",
       "      <th>110</th>\n",
       "      <td>Policy_CombinedSingleLimit_250/500</td>\n",
       "      <td>0.009664</td>\n",
       "    </tr>\n",
       "  </tbody>\n",
       "</table>\n",
       "</div>"
      ],
      "text/plain": [
       "                                    0_x       0_y\n",
       "0                          IncidentTime  0.042681\n",
       "1                      NumberOfVehicles  0.012132\n",
       "2                        BodilyInjuries  0.020244\n",
       "3                 AmountOfVehicleDamage  0.058279\n",
       "4                          CapitalGains  0.030574\n",
       "5                           CapitalLoss  0.031101\n",
       "6                 CustomerLoyaltyPeriod  0.054906\n",
       "7                     Policy_Deductible  0.041435\n",
       "8                         UmbrellaLimit  0.025722\n",
       "9                   PolicyAnnualPremium  0.054798\n",
       "21          AuthoritiesContacted_Police  0.008944\n",
       "27                 IncidentState_State5  0.008870\n",
       "29                 IncidentState_State7  0.008758\n",
       "31                 IncidentState_State9  0.008765\n",
       "41                      Witnesses_wit_0  0.008743\n",
       "47                  AmountOfTotalClaim_  0.065432\n",
       "48                 InsuredGender_FEMALE  0.008220\n",
       "49                   InsuredGender_MALE  0.008141\n",
       "90                 InsuredHobbies_chess  0.035883\n",
       "91             InsuredHobbies_cross-fit  0.026410\n",
       "106  Policy_CombinedSingleLimit_100/300  0.008574\n",
       "110  Policy_CombinedSingleLimit_250/500  0.009664"
      ]
     },
     "execution_count": 298,
     "metadata": {},
     "output_type": "execute_result"
    }
   ],
   "source": [
    "mask = df_index_['0_y'] > 0.008\n",
    "df_new = pd.DataFrame(df_index_[mask])\n",
    "df_new"
   ]
  },
  {
   "cell_type": "markdown",
   "id": "0d485b4f",
   "metadata": {},
   "source": [
    "# Hyper Parameter Tuning"
   ]
  },
  {
   "cell_type": "code",
   "execution_count": 299,
   "id": "0c59890b",
   "metadata": {},
   "outputs": [
    {
     "name": "stdout",
     "output_type": "stream",
     "text": [
      "Best: 0.970810 using {'max_features': 'sqrt', 'n_estimators': 20}\n",
      "0.945398 (0.004108) with: {'max_features': 'sqrt', 'n_estimators': 5}\n",
      "0.964520 (0.003913) with: {'max_features': 'sqrt', 'n_estimators': 10}\n",
      "0.970810 (0.003418) with: {'max_features': 'sqrt', 'n_estimators': 20}\n",
      "0.941345 (0.004553) with: {'max_features': 'log2', 'n_estimators': 5}\n",
      "0.963666 (0.003292) with: {'max_features': 'log2', 'n_estimators': 10}\n",
      "0.970040 (0.003464) with: {'max_features': 'log2', 'n_estimators': 20}\n"
     ]
    }
   ],
   "source": [
    "from sklearn.model_selection import RepeatedStratifiedKFold\n",
    "from sklearn.model_selection import GridSearchCV\n",
    "from sklearn.ensemble import RandomForestClassifier\n",
    "# define dataset\n",
    "X, y = X_train,Y_train\n",
    "# define models and parameters\n",
    "model = RandomForestClassifier()\n",
    "n_estimators = [5, 10,20]\n",
    "max_features = ['sqrt', 'log2']\n",
    "# define grid search\n",
    "grid = dict(n_estimators=n_estimators,max_features=max_features)\n",
    "cv = RepeatedStratifiedKFold(n_splits=10, n_repeats=3, random_state=1)\n",
    "grid_search = GridSearchCV(estimator=model, param_grid=grid, n_jobs=-1, cv=cv, scoring='accuracy',error_score=0)\n",
    "grid_result = grid_search.fit(X, y)\n",
    "# summarize results\n",
    "print(\"Best: %f using %s\" % (grid_result.best_score_, grid_result.best_params_))\n",
    "means = grid_result.cv_results_['mean_test_score']\n",
    "stds = grid_result.cv_results_['std_test_score']\n",
    "params = grid_result.cv_results_['params']\n",
    "for mean, stdev, param in zip(means, stds, params):\n",
    "    print(\"%f (%f) with: %r\" % (mean, stdev, param))"
   ]
  },
  {
   "cell_type": "code",
   "execution_count": 300,
   "id": "952ffa04",
   "metadata": {},
   "outputs": [],
   "source": [
    ">>> X, y = X_train,Y_train\n",
    ">>> clf = RandomForestClassifier(max_features= 'log2', n_estimators= 40, random_state=1)\n",
    ">>> clf.fit(X, y)\n",
    ">>> sub=clf.predict(Res)"
   ]
  },
  {
   "cell_type": "code",
   "execution_count": 301,
   "id": "db668a29",
   "metadata": {},
   "outputs": [],
   "source": [
    "sub=pd.DataFrame(sub)\n",
    "As_format=As_format['CustomerID']\n",
    "sub=pd.concat([As_format,sub], axis=\"columns\",join=\"inner\")"
   ]
  },
  {
   "cell_type": "code",
   "execution_count": 302,
   "id": "8e35381e",
   "metadata": {},
   "outputs": [],
   "source": [
    "sub.rename(columns ={0: 'ReportedFraud'}, inplace = True)"
   ]
  },
  {
   "cell_type": "code",
   "execution_count": 303,
   "id": "2ad9e746",
   "metadata": {
    "scrolled": true
   },
   "outputs": [
    {
     "data": {
      "text/html": [
       "<div>\n",
       "<style scoped>\n",
       "    .dataframe tbody tr th:only-of-type {\n",
       "        vertical-align: middle;\n",
       "    }\n",
       "\n",
       "    .dataframe tbody tr th {\n",
       "        vertical-align: top;\n",
       "    }\n",
       "\n",
       "    .dataframe thead th {\n",
       "        text-align: right;\n",
       "    }\n",
       "</style>\n",
       "<table border=\"1\" class=\"dataframe\">\n",
       "  <thead>\n",
       "    <tr style=\"text-align: right;\">\n",
       "      <th></th>\n",
       "      <th>CustomerID</th>\n",
       "      <th>ReportedFraud</th>\n",
       "    </tr>\n",
       "  </thead>\n",
       "  <tbody>\n",
       "    <tr>\n",
       "      <th>0</th>\n",
       "      <td>Cust10008</td>\n",
       "      <td>0</td>\n",
       "    </tr>\n",
       "    <tr>\n",
       "      <th>1</th>\n",
       "      <td>Cust10010</td>\n",
       "      <td>0</td>\n",
       "    </tr>\n",
       "    <tr>\n",
       "      <th>2</th>\n",
       "      <td>Cust10015</td>\n",
       "      <td>0</td>\n",
       "    </tr>\n",
       "    <tr>\n",
       "      <th>3</th>\n",
       "      <td>Cust10020</td>\n",
       "      <td>0</td>\n",
       "    </tr>\n",
       "    <tr>\n",
       "      <th>4</th>\n",
       "      <td>Cust1003</td>\n",
       "      <td>0</td>\n",
       "    </tr>\n",
       "    <tr>\n",
       "      <th>...</th>\n",
       "      <td>...</td>\n",
       "      <td>...</td>\n",
       "    </tr>\n",
       "    <tr>\n",
       "      <th>8907</th>\n",
       "      <td>Cust37942</td>\n",
       "      <td>0</td>\n",
       "    </tr>\n",
       "    <tr>\n",
       "      <th>8908</th>\n",
       "      <td>Cust20528</td>\n",
       "      <td>0</td>\n",
       "    </tr>\n",
       "    <tr>\n",
       "      <th>8909</th>\n",
       "      <td>Cust36797</td>\n",
       "      <td>0</td>\n",
       "    </tr>\n",
       "    <tr>\n",
       "      <th>8910</th>\n",
       "      <td>Cust28499</td>\n",
       "      <td>0</td>\n",
       "    </tr>\n",
       "    <tr>\n",
       "      <th>8911</th>\n",
       "      <td>Cust21356</td>\n",
       "      <td>0</td>\n",
       "    </tr>\n",
       "  </tbody>\n",
       "</table>\n",
       "<p>8912 rows × 2 columns</p>\n",
       "</div>"
      ],
      "text/plain": [
       "     CustomerID  ReportedFraud\n",
       "0     Cust10008              0\n",
       "1     Cust10010              0\n",
       "2     Cust10015              0\n",
       "3     Cust10020              0\n",
       "4      Cust1003              0\n",
       "...         ...            ...\n",
       "8907  Cust37942              0\n",
       "8908  Cust20528              0\n",
       "8909  Cust36797              0\n",
       "8910  Cust28499              0\n",
       "8911  Cust21356              0\n",
       "\n",
       "[8912 rows x 2 columns]"
      ]
     },
     "execution_count": 303,
     "metadata": {},
     "output_type": "execute_result"
    }
   ],
   "source": [
    "sub"
   ]
  },
  {
   "cell_type": "code",
   "execution_count": 304,
   "id": "2813fcba",
   "metadata": {},
   "outputs": [],
   "source": [
    "sub.to_csv(\"Result.csv\", index = False)"
   ]
  }
 ],
 "metadata": {
  "kernelspec": {
   "display_name": "Python 3",
   "language": "python",
   "name": "python3"
  },
  "language_info": {
   "codemirror_mode": {
    "name": "ipython",
    "version": 3
   },
   "file_extension": ".py",
   "mimetype": "text/x-python",
   "name": "python",
   "nbconvert_exporter": "python",
   "pygments_lexer": "ipython3",
   "version": "3.8.8"
  }
 },
 "nbformat": 4,
 "nbformat_minor": 5
}
